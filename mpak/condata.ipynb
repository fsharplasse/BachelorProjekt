{
 "cells": [
  {
   "cell_type": "markdown",
   "metadata": {},
   "source": [
    "Reforming the dataset \"final_data.csv\""
   ]
  },
  {
   "cell_type": "code",
   "execution_count": 212,
   "metadata": {},
   "outputs": [],
   "source": [
    "import pandas as pd\n",
    "import numpy as np\n",
    "from numpy import linalg as la\n",
    "from numpy import random\n",
    "from scipy.stats import norm\n",
    "from scipy.stats import genextreme\n",
    "from scipy import optimize\n",
    "from scipy.io import loadmat\n",
    "from tabulate import tabulate\n"
   ]
  },
  {
   "cell_type": "markdown",
   "metadata": {},
   "source": [
    "Creating the path and loading the dataset"
   ]
  },
  {
   "cell_type": "code",
   "execution_count": 213,
   "metadata": {},
   "outputs": [],
   "source": [
    "pd.options.display.float_format = '{:.9f}'.format\n",
    "path = \"/Users/nicholaihjelme/Desktop/mpak/\"\n",
    "# Final_DATA\n",
    "choice_data = pd.read_csv(path + '/choice_data.csv', delimiter=';', encoding = 'unicode_escape')\n",
    "df = choice_data\n",
    "df.drop(['Shares'], axis=1,inplace=True)"
   ]
  },
  {
   "cell_type": "markdown",
   "metadata": {},
   "source": [
    "Printing first 5 rows of our dataset"
   ]
  },
  {
   "cell_type": "code",
   "execution_count": 214,
   "metadata": {},
   "outputs": [
    {
     "data": {
      "text/html": [
       "<div>\n",
       "<style scoped>\n",
       "    .dataframe tbody tr th:only-of-type {\n",
       "        vertical-align: middle;\n",
       "    }\n",
       "\n",
       "    .dataframe tbody tr th {\n",
       "        vertical-align: top;\n",
       "    }\n",
       "\n",
       "    .dataframe thead th {\n",
       "        text-align: right;\n",
       "    }\n",
       "</style>\n",
       "<table border=\"1\" class=\"dataframe\">\n",
       "  <thead>\n",
       "    <tr style=\"text-align: right;\">\n",
       "      <th></th>\n",
       "      <th>Year</th>\n",
       "      <th>Make-model-year-fuel</th>\n",
       "      <th>Make</th>\n",
       "      <th>Model</th>\n",
       "      <th>Variant</th>\n",
       "      <th>Size segment</th>\n",
       "      <th>Fuel-size segment</th>\n",
       "      <th>No. of registrations</th>\n",
       "      <th>Prices (2015-DKK)</th>\n",
       "      <th>Ownership cost (DKK)</th>\n",
       "      <th>Weight (kg)</th>\n",
       "      <th>Fuel</th>\n",
       "      <th>Engine effect (kW)</th>\n",
       "      <th>Horsepower</th>\n",
       "      <th>Size (m3)</th>\n",
       "      <th>Footprint (m²)</th>\n",
       "      <th>Cost/km (DKK)</th>\n",
       "      <th>fuelPrice (DKK/unit)</th>\n",
       "    </tr>\n",
       "  </thead>\n",
       "  <tbody>\n",
       "    <tr>\n",
       "      <th>0</th>\n",
       "      <td>2006</td>\n",
       "      <td>toyota-avensis-2006-Benzin</td>\n",
       "      <td>toyota</td>\n",
       "      <td>avensis</td>\n",
       "      <td>1,8 STW MAN.</td>\n",
       "      <td>Small</td>\n",
       "      <td>BenzinSmall</td>\n",
       "      <td>5428</td>\n",
       "      <td>403349.299100000</td>\n",
       "      <td>346885.205500000</td>\n",
       "      <td>1820</td>\n",
       "      <td>Benzin</td>\n",
       "      <td>108.000000000</td>\n",
       "      <td>139.307692300</td>\n",
       "      <td>12.573440000</td>\n",
       "      <td>8.223261538</td>\n",
       "      <td>0.813669065</td>\n",
       "      <td>11.310000000</td>\n",
       "    </tr>\n",
       "    <tr>\n",
       "      <th>1</th>\n",
       "      <td>2006</td>\n",
       "      <td>volkswagen-passat-2006-Diesel</td>\n",
       "      <td>volkswagen</td>\n",
       "      <td>passat</td>\n",
       "      <td>2,0 TDI</td>\n",
       "      <td>Large</td>\n",
       "      <td>DieselLarge</td>\n",
       "      <td>5378</td>\n",
       "      <td>378504.672900000</td>\n",
       "      <td>352803.014000000</td>\n",
       "      <td>2170</td>\n",
       "      <td>Diesel</td>\n",
       "      <td>103.000000000</td>\n",
       "      <td>128.333333300</td>\n",
       "      <td>12.734904000</td>\n",
       "      <td>8.657173611</td>\n",
       "      <td>0.681879195</td>\n",
       "      <td>10.160000000</td>\n",
       "    </tr>\n",
       "    <tr>\n",
       "      <th>2</th>\n",
       "      <td>2006</td>\n",
       "      <td>renault-clio-2006-Benzin</td>\n",
       "      <td>renault</td>\n",
       "      <td>clio</td>\n",
       "      <td>1,2 8V 60 HK</td>\n",
       "      <td>Small</td>\n",
       "      <td>BenzinSmall</td>\n",
       "      <td>4518</td>\n",
       "      <td>134344.626200000</td>\n",
       "      <td>118899.032100000</td>\n",
       "      <td>1425</td>\n",
       "      <td>Benzin</td>\n",
       "      <td>43.000000000</td>\n",
       "      <td>60.000000000</td>\n",
       "      <td>8.872728000</td>\n",
       "      <td>6.248400000</td>\n",
       "      <td>0.677245509</td>\n",
       "      <td>11.310000000</td>\n",
       "    </tr>\n",
       "    <tr>\n",
       "      <th>3</th>\n",
       "      <td>2006</td>\n",
       "      <td>suzuki-swift-2006-Benzin</td>\n",
       "      <td>suzuki</td>\n",
       "      <td>swift</td>\n",
       "      <td>1,5</td>\n",
       "      <td>Small</td>\n",
       "      <td>BenzinSmall</td>\n",
       "      <td>4406</td>\n",
       "      <td>163536.215000000</td>\n",
       "      <td>135059.819400000</td>\n",
       "      <td>1475</td>\n",
       "      <td>Benzin</td>\n",
       "      <td>68.000000000</td>\n",
       "      <td>94.000000000</td>\n",
       "      <td>9.379500000</td>\n",
       "      <td>6.253000000</td>\n",
       "      <td>0.734415584</td>\n",
       "      <td>11.310000000</td>\n",
       "    </tr>\n",
       "    <tr>\n",
       "      <th>4</th>\n",
       "      <td>2006</td>\n",
       "      <td>fiat-punto-2006-Benzin</td>\n",
       "      <td>fiat</td>\n",
       "      <td>punto</td>\n",
       "      <td>1,2</td>\n",
       "      <td>Small</td>\n",
       "      <td>BenzinSmall</td>\n",
       "      <td>3743</td>\n",
       "      <td>150287.383200000</td>\n",
       "      <td>135188.422500000</td>\n",
       "      <td>1590</td>\n",
       "      <td>Benzin</td>\n",
       "      <td>48.000000000</td>\n",
       "      <td>63.888888890</td>\n",
       "      <td>9.483248000</td>\n",
       "      <td>6.392844444</td>\n",
       "      <td>0.689634146</td>\n",
       "      <td>11.310000000</td>\n",
       "    </tr>\n",
       "  </tbody>\n",
       "</table>\n",
       "</div>"
      ],
      "text/plain": [
       "   Year           Make-model-year-fuel        Make    Model       Variant  \\\n",
       "0  2006     toyota-avensis-2006-Benzin      toyota  avensis  1,8 STW MAN.   \n",
       "1  2006  volkswagen-passat-2006-Diesel  volkswagen   passat       2,0 TDI   \n",
       "2  2006       renault-clio-2006-Benzin     renault     clio  1,2 8V 60 HK   \n",
       "3  2006       suzuki-swift-2006-Benzin      suzuki    swift           1,5   \n",
       "4  2006         fiat-punto-2006-Benzin        fiat    punto           1,2   \n",
       "\n",
       "  Size segment Fuel-size segment  No. of registrations  Prices (2015-DKK)  \\\n",
       "0        Small       BenzinSmall                  5428   403349.299100000   \n",
       "1        Large       DieselLarge                  5378   378504.672900000   \n",
       "2        Small       BenzinSmall                  4518   134344.626200000   \n",
       "3        Small       BenzinSmall                  4406   163536.215000000   \n",
       "4        Small       BenzinSmall                  3743   150287.383200000   \n",
       "\n",
       "   Ownership cost (DKK)  Weight (kg)    Fuel  Engine effect (kW)  \\\n",
       "0      346885.205500000         1820  Benzin       108.000000000   \n",
       "1      352803.014000000         2170  Diesel       103.000000000   \n",
       "2      118899.032100000         1425  Benzin        43.000000000   \n",
       "3      135059.819400000         1475  Benzin        68.000000000   \n",
       "4      135188.422500000         1590  Benzin        48.000000000   \n",
       "\n",
       "     Horsepower    Size (m3)  Footprint (m²)  Cost/km (DKK)  \\\n",
       "0 139.307692300 12.573440000     8.223261538    0.813669065   \n",
       "1 128.333333300 12.734904000     8.657173611    0.681879195   \n",
       "2  60.000000000  8.872728000     6.248400000    0.677245509   \n",
       "3  94.000000000  9.379500000     6.253000000    0.734415584   \n",
       "4  63.888888890  9.483248000     6.392844444    0.689634146   \n",
       "\n",
       "   fuelPrice (DKK/unit)  \n",
       "0          11.310000000  \n",
       "1          10.160000000  \n",
       "2          11.310000000  \n",
       "3          11.310000000  \n",
       "4          11.310000000  "
      ]
     },
     "execution_count": 214,
     "metadata": {},
     "output_type": "execute_result"
    }
   ],
   "source": [
    "df.head()"
   ]
  },
  {
   "cell_type": "markdown",
   "metadata": {},
   "source": [
    "Creating choices for each Fueltype"
   ]
  },
  {
   "cell_type": "code",
   "execution_count": 215,
   "metadata": {},
   "outputs": [
    {
     "name": "stdout",
     "output_type": "stream",
     "text": [
      "0       2\n",
      "1       1\n",
      "2       2\n",
      "3       2\n",
      "4       2\n",
      "       ..\n",
      "3377    1\n",
      "3378    2\n",
      "3379    2\n",
      "3380    2\n",
      "3381    2\n",
      "Name: Fuelchoice, Length: 3382, dtype: int64\n"
     ]
    }
   ],
   "source": [
    "conditions = [\n",
    "    (df['Fuel'] == 'EL'),\n",
    "    (df['Fuel'] == 'Diesel')]\n",
    "choices = [0, 1]\n",
    "df['Fuelchoice'] = np.select(conditions, choices,default=2)\n",
    "print(df['Fuelchoice'])"
   ]
  },
  {
   "cell_type": "markdown",
   "metadata": {},
   "source": [
    "Number of observations for each year"
   ]
  },
  {
   "cell_type": "code",
   "execution_count": 216,
   "metadata": {},
   "outputs": [
    {
     "name": "stdout",
     "output_type": "stream",
     "text": [
      "186\n",
      "210\n",
      "215\n",
      "198\n",
      "217\n",
      "225\n",
      "232\n",
      "242\n",
      "248\n",
      "246\n",
      "246\n",
      "239\n",
      "234\n",
      "230\n",
      "214\n"
     ]
    }
   ],
   "source": [
    "year = 2006\n",
    "for x in range(2006,2021):\n",
    "    obs_count = df.loc[(df['Year'] == year)]\n",
    "    print(len(obs_count))\n",
    "    year += 1"
   ]
  },
  {
   "cell_type": "markdown",
   "metadata": {},
   "source": [
    "Removing observations with the lowest number of registrations until there is the same number of observations for each year"
   ]
  },
  {
   "cell_type": "code",
   "execution_count": 217,
   "metadata": {},
   "outputs": [
    {
     "data": {
      "text/plain": [
       "2020"
      ]
     },
     "execution_count": 217,
     "metadata": {},
     "output_type": "execute_result"
    }
   ],
   "source": [
    "year = df['Year'].max()\n",
    "year"
   ]
  },
  {
   "cell_type": "code",
   "execution_count": 218,
   "metadata": {},
   "outputs": [],
   "source": [
    "year = 2006\n",
    "for x in range(2006,2021):\n",
    "     while len(df.loc[df['Year'] == year]) > len(df.loc[df['Year'] == 2006]):\n",
    "          min_val = df.loc[(df['Year'] == year) & (df['Fuel'] != 'El'), 'No. of registrations'].idxmin()\n",
    "          df.drop(index=min_val,inplace=True)\n",
    "     year += 1\n"
   ]
  },
  {
   "cell_type": "markdown",
   "metadata": {},
   "source": [
    "Number of observations for each year after deleting "
   ]
  },
  {
   "cell_type": "code",
   "execution_count": 219,
   "metadata": {},
   "outputs": [
    {
     "name": "stdout",
     "output_type": "stream",
     "text": [
      "186\n",
      "186\n",
      "186\n",
      "186\n",
      "186\n",
      "186\n",
      "186\n",
      "186\n",
      "186\n",
      "186\n",
      "186\n",
      "186\n",
      "186\n",
      "186\n",
      "186\n"
     ]
    }
   ],
   "source": [
    "year = 2006\n",
    "for x in range(2006,2021):\n",
    "    obs_count = df.loc[(df['Year'] == year)]\n",
    "    print(len(obs_count))\n",
    "    year += 1"
   ]
  },
  {
   "cell_type": "markdown",
   "metadata": {},
   "source": [
    "Creating a new column Shares based on each rows number. of registrations divided with the total number of registrations."
   ]
  },
  {
   "cell_type": "code",
   "execution_count": 220,
   "metadata": {},
   "outputs": [
    {
     "data": {
      "text/html": [
       "<div>\n",
       "<style scoped>\n",
       "    .dataframe tbody tr th:only-of-type {\n",
       "        vertical-align: middle;\n",
       "    }\n",
       "\n",
       "    .dataframe tbody tr th {\n",
       "        vertical-align: top;\n",
       "    }\n",
       "\n",
       "    .dataframe thead th {\n",
       "        text-align: right;\n",
       "    }\n",
       "</style>\n",
       "<table border=\"1\" class=\"dataframe\">\n",
       "  <thead>\n",
       "    <tr style=\"text-align: right;\">\n",
       "      <th></th>\n",
       "      <th>Year</th>\n",
       "      <th>Make-model-year-fuel</th>\n",
       "      <th>Make</th>\n",
       "      <th>Model</th>\n",
       "      <th>Variant</th>\n",
       "      <th>Size segment</th>\n",
       "      <th>Fuel-size segment</th>\n",
       "      <th>No. of registrations</th>\n",
       "      <th>Prices (2015-DKK)</th>\n",
       "      <th>Ownership cost (DKK)</th>\n",
       "      <th>Weight (kg)</th>\n",
       "      <th>Fuel</th>\n",
       "      <th>Engine effect (kW)</th>\n",
       "      <th>Horsepower</th>\n",
       "      <th>Size (m3)</th>\n",
       "      <th>Footprint (m²)</th>\n",
       "      <th>Cost/km (DKK)</th>\n",
       "      <th>fuelPrice (DKK/unit)</th>\n",
       "      <th>Fuelchoice</th>\n",
       "      <th>MarketShare</th>\n",
       "    </tr>\n",
       "  </thead>\n",
       "  <tbody>\n",
       "    <tr>\n",
       "      <th>0</th>\n",
       "      <td>2006</td>\n",
       "      <td>toyota-avensis-2006-Benzin</td>\n",
       "      <td>toyota</td>\n",
       "      <td>avensis</td>\n",
       "      <td>1,8 STW MAN.</td>\n",
       "      <td>Small</td>\n",
       "      <td>BenzinSmall</td>\n",
       "      <td>5428</td>\n",
       "      <td>403349.299100000</td>\n",
       "      <td>346885.205500000</td>\n",
       "      <td>1820</td>\n",
       "      <td>Benzin</td>\n",
       "      <td>108.000000000</td>\n",
       "      <td>139.307692300</td>\n",
       "      <td>12.573440000</td>\n",
       "      <td>8.223261538</td>\n",
       "      <td>0.813669065</td>\n",
       "      <td>11.310000000</td>\n",
       "      <td>2</td>\n",
       "      <td>0.001802671</td>\n",
       "    </tr>\n",
       "    <tr>\n",
       "      <th>1</th>\n",
       "      <td>2006</td>\n",
       "      <td>volkswagen-passat-2006-Diesel</td>\n",
       "      <td>volkswagen</td>\n",
       "      <td>passat</td>\n",
       "      <td>2,0 TDI</td>\n",
       "      <td>Large</td>\n",
       "      <td>DieselLarge</td>\n",
       "      <td>5378</td>\n",
       "      <td>378504.672900000</td>\n",
       "      <td>352803.014000000</td>\n",
       "      <td>2170</td>\n",
       "      <td>Diesel</td>\n",
       "      <td>103.000000000</td>\n",
       "      <td>128.333333300</td>\n",
       "      <td>12.734904000</td>\n",
       "      <td>8.657173611</td>\n",
       "      <td>0.681879195</td>\n",
       "      <td>10.160000000</td>\n",
       "      <td>1</td>\n",
       "      <td>0.001786065</td>\n",
       "    </tr>\n",
       "    <tr>\n",
       "      <th>2</th>\n",
       "      <td>2006</td>\n",
       "      <td>renault-clio-2006-Benzin</td>\n",
       "      <td>renault</td>\n",
       "      <td>clio</td>\n",
       "      <td>1,2 8V 60 HK</td>\n",
       "      <td>Small</td>\n",
       "      <td>BenzinSmall</td>\n",
       "      <td>4518</td>\n",
       "      <td>134344.626200000</td>\n",
       "      <td>118899.032100000</td>\n",
       "      <td>1425</td>\n",
       "      <td>Benzin</td>\n",
       "      <td>43.000000000</td>\n",
       "      <td>60.000000000</td>\n",
       "      <td>8.872728000</td>\n",
       "      <td>6.248400000</td>\n",
       "      <td>0.677245509</td>\n",
       "      <td>11.310000000</td>\n",
       "      <td>2</td>\n",
       "      <td>0.001500454</td>\n",
       "    </tr>\n",
       "    <tr>\n",
       "      <th>3</th>\n",
       "      <td>2006</td>\n",
       "      <td>suzuki-swift-2006-Benzin</td>\n",
       "      <td>suzuki</td>\n",
       "      <td>swift</td>\n",
       "      <td>1,5</td>\n",
       "      <td>Small</td>\n",
       "      <td>BenzinSmall</td>\n",
       "      <td>4406</td>\n",
       "      <td>163536.215000000</td>\n",
       "      <td>135059.819400000</td>\n",
       "      <td>1475</td>\n",
       "      <td>Benzin</td>\n",
       "      <td>68.000000000</td>\n",
       "      <td>94.000000000</td>\n",
       "      <td>9.379500000</td>\n",
       "      <td>6.253000000</td>\n",
       "      <td>0.734415584</td>\n",
       "      <td>11.310000000</td>\n",
       "      <td>2</td>\n",
       "      <td>0.001463258</td>\n",
       "    </tr>\n",
       "    <tr>\n",
       "      <th>4</th>\n",
       "      <td>2006</td>\n",
       "      <td>fiat-punto-2006-Benzin</td>\n",
       "      <td>fiat</td>\n",
       "      <td>punto</td>\n",
       "      <td>1,2</td>\n",
       "      <td>Small</td>\n",
       "      <td>BenzinSmall</td>\n",
       "      <td>3743</td>\n",
       "      <td>150287.383200000</td>\n",
       "      <td>135188.422500000</td>\n",
       "      <td>1590</td>\n",
       "      <td>Benzin</td>\n",
       "      <td>48.000000000</td>\n",
       "      <td>63.888888890</td>\n",
       "      <td>9.483248000</td>\n",
       "      <td>6.392844444</td>\n",
       "      <td>0.689634146</td>\n",
       "      <td>11.310000000</td>\n",
       "      <td>2</td>\n",
       "      <td>0.001243072</td>\n",
       "    </tr>\n",
       "  </tbody>\n",
       "</table>\n",
       "</div>"
      ],
      "text/plain": [
       "   Year           Make-model-year-fuel        Make    Model       Variant  \\\n",
       "0  2006     toyota-avensis-2006-Benzin      toyota  avensis  1,8 STW MAN.   \n",
       "1  2006  volkswagen-passat-2006-Diesel  volkswagen   passat       2,0 TDI   \n",
       "2  2006       renault-clio-2006-Benzin     renault     clio  1,2 8V 60 HK   \n",
       "3  2006       suzuki-swift-2006-Benzin      suzuki    swift           1,5   \n",
       "4  2006         fiat-punto-2006-Benzin        fiat    punto           1,2   \n",
       "\n",
       "  Size segment Fuel-size segment  No. of registrations  Prices (2015-DKK)  \\\n",
       "0        Small       BenzinSmall                  5428   403349.299100000   \n",
       "1        Large       DieselLarge                  5378   378504.672900000   \n",
       "2        Small       BenzinSmall                  4518   134344.626200000   \n",
       "3        Small       BenzinSmall                  4406   163536.215000000   \n",
       "4        Small       BenzinSmall                  3743   150287.383200000   \n",
       "\n",
       "   Ownership cost (DKK)  Weight (kg)    Fuel  Engine effect (kW)  \\\n",
       "0      346885.205500000         1820  Benzin       108.000000000   \n",
       "1      352803.014000000         2170  Diesel       103.000000000   \n",
       "2      118899.032100000         1425  Benzin        43.000000000   \n",
       "3      135059.819400000         1475  Benzin        68.000000000   \n",
       "4      135188.422500000         1590  Benzin        48.000000000   \n",
       "\n",
       "     Horsepower    Size (m3)  Footprint (m²)  Cost/km (DKK)  \\\n",
       "0 139.307692300 12.573440000     8.223261538    0.813669065   \n",
       "1 128.333333300 12.734904000     8.657173611    0.681879195   \n",
       "2  60.000000000  8.872728000     6.248400000    0.677245509   \n",
       "3  94.000000000  9.379500000     6.253000000    0.734415584   \n",
       "4  63.888888890  9.483248000     6.392844444    0.689634146   \n",
       "\n",
       "   fuelPrice (DKK/unit)  Fuelchoice  MarketShare  \n",
       "0          11.310000000           2  0.001802671  \n",
       "1          10.160000000           1  0.001786065  \n",
       "2          11.310000000           2  0.001500454  \n",
       "3          11.310000000           2  0.001463258  \n",
       "4          11.310000000           2  0.001243072  "
      ]
     },
     "execution_count": 220,
     "metadata": {},
     "output_type": "execute_result"
    }
   ],
   "source": [
    "total_reg=df['No. of registrations'].sum(axis=0)\n",
    "df[\"MarketShare\"]= df[\"No. of registrations\"]/total_reg\n",
    "df.head()\n"
   ]
  },
  {
   "cell_type": "markdown",
   "metadata": {},
   "source": [
    "Creating a new column \"Shares\" based on each rows number. of registrations divided with the total number of registrations for each year.\n"
   ]
  },
  {
   "cell_type": "code",
   "execution_count": 221,
   "metadata": {},
   "outputs": [],
   "source": [
    "year = 2006\n",
    "df['market_year']=None\n",
    "for x in range(2006,2021):\n",
    "     total_reg_per_year = df.loc[(df['Year'] == year), 'No. of registrations'].sum(axis=0)\n",
    "     share_year= ((df.loc[(df['Year'] == year), 'No. of registrations']) / total_reg_per_year)\n",
    "     new_df = pd.DataFrame({'market_year': share_year})\n",
    "     df.update(new_df)\n",
    "     year += 1"
   ]
  },
  {
   "cell_type": "code",
   "execution_count": 223,
   "metadata": {},
   "outputs": [],
   "source": [
    "df.to_csv(path + 'clogitchoice_data.csv')"
   ]
  }
 ],
 "metadata": {
  "interpreter": {
   "hash": "3fa47648691e18b34313f8a4e087bb5559b75a28785d53ef0f6248e31839f0fc"
  },
  "kernelspec": {
   "display_name": "Python 3.9.5 ('base')",
   "language": "python",
   "name": "python3"
  },
  "language_info": {
   "codemirror_mode": {
    "name": "ipython",
    "version": 3
   },
   "file_extension": ".py",
   "mimetype": "text/x-python",
   "name": "python",
   "nbconvert_exporter": "python",
   "pygments_lexer": "ipython3",
   "version": "3.9.5"
  },
  "orig_nbformat": 4
 },
 "nbformat": 4,
 "nbformat_minor": 2
}
