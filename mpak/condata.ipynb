{
 "cells": [
  {
   "cell_type": "markdown",
   "metadata": {},
   "source": [
    "Reforming the dataset \"final_data.csv\""
   ]
  },
  {
   "cell_type": "code",
   "execution_count": 1,
   "metadata": {},
   "outputs": [],
   "source": [
    "import pandas as pd\n",
    "import numpy as np\n",
    "import matplotlib.pyplot as plt\n"
   ]
  },
  {
   "cell_type": "markdown",
   "metadata": {},
   "source": [
    "Creating the path and loading the dataset"
   ]
  },
  {
   "cell_type": "code",
   "execution_count": 2,
   "metadata": {},
   "outputs": [],
   "source": [
    "pd.options.display.float_format = '{:.9f}'.format\n",
    "path = \"/Users/nicholaihjelme/Desktop/mpak/\"\n",
    "# Final_DATA\n",
    "choice_data = pd.read_csv(path + '/choice_data.csv', delimiter=';', encoding = 'unicode_escape')\n",
    "df = choice_data"
   ]
  },
  {
   "cell_type": "markdown",
   "metadata": {},
   "source": [
    "Printing first 5 rows of our dataset"
   ]
  },
  {
   "cell_type": "code",
   "execution_count": 3,
   "metadata": {},
   "outputs": [
    {
     "data": {
      "text/html": [
       "<div>\n",
       "<style scoped>\n",
       "    .dataframe tbody tr th:only-of-type {\n",
       "        vertical-align: middle;\n",
       "    }\n",
       "\n",
       "    .dataframe tbody tr th {\n",
       "        vertical-align: top;\n",
       "    }\n",
       "\n",
       "    .dataframe thead th {\n",
       "        text-align: right;\n",
       "    }\n",
       "</style>\n",
       "<table border=\"1\" class=\"dataframe\">\n",
       "  <thead>\n",
       "    <tr style=\"text-align: right;\">\n",
       "      <th></th>\n",
       "      <th>Year</th>\n",
       "      <th>Make-model-year-fuel</th>\n",
       "      <th>Make</th>\n",
       "      <th>Model</th>\n",
       "      <th>Variant</th>\n",
       "      <th>Size segment</th>\n",
       "      <th>Fuel-size segment</th>\n",
       "      <th>No. of registrations</th>\n",
       "      <th>Shares</th>\n",
       "      <th>Prices (2015-DKK)</th>\n",
       "      <th>Ownership cost (DKK)</th>\n",
       "      <th>Weight (kg)</th>\n",
       "      <th>Fuel</th>\n",
       "      <th>Engine effect (kW)</th>\n",
       "      <th>Horsepower</th>\n",
       "      <th>Size (m3)</th>\n",
       "      <th>Footprint (m²)</th>\n",
       "      <th>Cost/km (DKK)</th>\n",
       "      <th>fuelPrice (DKK/unit)</th>\n",
       "    </tr>\n",
       "  </thead>\n",
       "  <tbody>\n",
       "    <tr>\n",
       "      <th>0</th>\n",
       "      <td>2006</td>\n",
       "      <td>toyota-avensis-2006-Benzin</td>\n",
       "      <td>toyota</td>\n",
       "      <td>avensis</td>\n",
       "      <td>1,8 STW MAN.</td>\n",
       "      <td>Small</td>\n",
       "      <td>BenzinSmall</td>\n",
       "      <td>5428</td>\n",
       "      <td>0.002156418</td>\n",
       "      <td>403349.299100000</td>\n",
       "      <td>346885.205500000</td>\n",
       "      <td>1820</td>\n",
       "      <td>Benzin</td>\n",
       "      <td>108.000000000</td>\n",
       "      <td>139.307692300</td>\n",
       "      <td>12.573440000</td>\n",
       "      <td>8.223261538</td>\n",
       "      <td>0.813669065</td>\n",
       "      <td>11.310000000</td>\n",
       "    </tr>\n",
       "    <tr>\n",
       "      <th>1</th>\n",
       "      <td>2006</td>\n",
       "      <td>volkswagen-passat-2006-Diesel</td>\n",
       "      <td>volkswagen</td>\n",
       "      <td>passat</td>\n",
       "      <td>2,0 TDI</td>\n",
       "      <td>Large</td>\n",
       "      <td>DieselLarge</td>\n",
       "      <td>5378</td>\n",
       "      <td>0.002136554</td>\n",
       "      <td>378504.672900000</td>\n",
       "      <td>352803.014000000</td>\n",
       "      <td>2170</td>\n",
       "      <td>Diesel</td>\n",
       "      <td>103.000000000</td>\n",
       "      <td>128.333333300</td>\n",
       "      <td>12.734904000</td>\n",
       "      <td>8.657173611</td>\n",
       "      <td>0.681879195</td>\n",
       "      <td>10.160000000</td>\n",
       "    </tr>\n",
       "    <tr>\n",
       "      <th>2</th>\n",
       "      <td>2006</td>\n",
       "      <td>renault-clio-2006-Benzin</td>\n",
       "      <td>renault</td>\n",
       "      <td>clio</td>\n",
       "      <td>1,2 8V 60 HK</td>\n",
       "      <td>Small</td>\n",
       "      <td>BenzinSmall</td>\n",
       "      <td>4518</td>\n",
       "      <td>0.001794896</td>\n",
       "      <td>134344.626200000</td>\n",
       "      <td>118899.032100000</td>\n",
       "      <td>1425</td>\n",
       "      <td>Benzin</td>\n",
       "      <td>43.000000000</td>\n",
       "      <td>60.000000000</td>\n",
       "      <td>8.872728000</td>\n",
       "      <td>6.248400000</td>\n",
       "      <td>0.677245509</td>\n",
       "      <td>11.310000000</td>\n",
       "    </tr>\n",
       "    <tr>\n",
       "      <th>3</th>\n",
       "      <td>2006</td>\n",
       "      <td>suzuki-swift-2006-Benzin</td>\n",
       "      <td>suzuki</td>\n",
       "      <td>swift</td>\n",
       "      <td>1,5</td>\n",
       "      <td>Small</td>\n",
       "      <td>BenzinSmall</td>\n",
       "      <td>4406</td>\n",
       "      <td>0.001750401</td>\n",
       "      <td>163536.215000000</td>\n",
       "      <td>135059.819400000</td>\n",
       "      <td>1475</td>\n",
       "      <td>Benzin</td>\n",
       "      <td>68.000000000</td>\n",
       "      <td>94.000000000</td>\n",
       "      <td>9.379500000</td>\n",
       "      <td>6.253000000</td>\n",
       "      <td>0.734415584</td>\n",
       "      <td>11.310000000</td>\n",
       "    </tr>\n",
       "    <tr>\n",
       "      <th>4</th>\n",
       "      <td>2006</td>\n",
       "      <td>fiat-punto-2006-Benzin</td>\n",
       "      <td>fiat</td>\n",
       "      <td>punto</td>\n",
       "      <td>1,2</td>\n",
       "      <td>Small</td>\n",
       "      <td>BenzinSmall</td>\n",
       "      <td>3743</td>\n",
       "      <td>0.001487007</td>\n",
       "      <td>150287.383200000</td>\n",
       "      <td>135188.422500000</td>\n",
       "      <td>1590</td>\n",
       "      <td>Benzin</td>\n",
       "      <td>48.000000000</td>\n",
       "      <td>63.888888890</td>\n",
       "      <td>9.483248000</td>\n",
       "      <td>6.392844444</td>\n",
       "      <td>0.689634146</td>\n",
       "      <td>11.310000000</td>\n",
       "    </tr>\n",
       "  </tbody>\n",
       "</table>\n",
       "</div>"
      ],
      "text/plain": [
       "   Year           Make-model-year-fuel        Make    Model       Variant  \\\n",
       "0  2006     toyota-avensis-2006-Benzin      toyota  avensis  1,8 STW MAN.   \n",
       "1  2006  volkswagen-passat-2006-Diesel  volkswagen   passat       2,0 TDI   \n",
       "2  2006       renault-clio-2006-Benzin     renault     clio  1,2 8V 60 HK   \n",
       "3  2006       suzuki-swift-2006-Benzin      suzuki    swift           1,5   \n",
       "4  2006         fiat-punto-2006-Benzin        fiat    punto           1,2   \n",
       "\n",
       "  Size segment Fuel-size segment  No. of registrations      Shares  \\\n",
       "0        Small       BenzinSmall                  5428 0.002156418   \n",
       "1        Large       DieselLarge                  5378 0.002136554   \n",
       "2        Small       BenzinSmall                  4518 0.001794896   \n",
       "3        Small       BenzinSmall                  4406 0.001750401   \n",
       "4        Small       BenzinSmall                  3743 0.001487007   \n",
       "\n",
       "   Prices (2015-DKK)  Ownership cost (DKK)  Weight (kg)    Fuel  \\\n",
       "0   403349.299100000      346885.205500000         1820  Benzin   \n",
       "1   378504.672900000      352803.014000000         2170  Diesel   \n",
       "2   134344.626200000      118899.032100000         1425  Benzin   \n",
       "3   163536.215000000      135059.819400000         1475  Benzin   \n",
       "4   150287.383200000      135188.422500000         1590  Benzin   \n",
       "\n",
       "   Engine effect (kW)    Horsepower    Size (m3)  Footprint (m²)  \\\n",
       "0       108.000000000 139.307692300 12.573440000     8.223261538   \n",
       "1       103.000000000 128.333333300 12.734904000     8.657173611   \n",
       "2        43.000000000  60.000000000  8.872728000     6.248400000   \n",
       "3        68.000000000  94.000000000  9.379500000     6.253000000   \n",
       "4        48.000000000  63.888888890  9.483248000     6.392844444   \n",
       "\n",
       "   Cost/km (DKK)  fuelPrice (DKK/unit)  \n",
       "0    0.813669065          11.310000000  \n",
       "1    0.681879195          10.160000000  \n",
       "2    0.677245509          11.310000000  \n",
       "3    0.734415584          11.310000000  \n",
       "4    0.689634146          11.310000000  "
      ]
     },
     "execution_count": 3,
     "metadata": {},
     "output_type": "execute_result"
    }
   ],
   "source": [
    "df.head()"
   ]
  },
  {
   "cell_type": "markdown",
   "metadata": {},
   "source": []
  },
  {
   "cell_type": "markdown",
   "metadata": {},
   "source": [
    "Number of observations for each year"
   ]
  },
  {
   "cell_type": "code",
   "execution_count": 4,
   "metadata": {},
   "outputs": [
    {
     "name": "stdout",
     "output_type": "stream",
     "text": [
      "186\n",
      "210\n",
      "215\n",
      "198\n",
      "217\n",
      "225\n",
      "232\n",
      "242\n",
      "248\n",
      "246\n",
      "246\n",
      "239\n",
      "234\n",
      "230\n",
      "214\n"
     ]
    }
   ],
   "source": [
    "year = 2006\n",
    "for x in range(2006,2021):\n",
    "    obs_count = df.loc[(df['Year'] == year)]\n",
    "    print(len(obs_count))\n",
    "    year += 1"
   ]
  },
  {
   "cell_type": "code",
   "execution_count": 5,
   "metadata": {},
   "outputs": [],
   "source": [
    "year = 2006\n",
    "for x in range(2006,2021):\n",
    "     while len(df.loc[df['Year'] == year]) > len(df.loc[df['Year'] == 2006]):\n",
    "          min_val = df.loc[(df['Year'] == year) & (df['Fuel'] != 'El'), 'No. of registrations'].idxmin()\n",
    "          df.drop(index=min_val,inplace=True)\n",
    "     year += 1\n",
    "df.to_csv(path + 'clogitchoice_data.csv')\n"
   ]
  },
  {
   "cell_type": "markdown",
   "metadata": {},
   "source": [
    "Number of observations for each year after deleting "
   ]
  },
  {
   "cell_type": "code",
   "execution_count": 6,
   "metadata": {},
   "outputs": [
    {
     "name": "stdout",
     "output_type": "stream",
     "text": [
      "186\n",
      "186\n",
      "186\n",
      "186\n",
      "186\n",
      "186\n",
      "186\n",
      "186\n",
      "186\n",
      "186\n",
      "186\n",
      "186\n",
      "186\n",
      "186\n",
      "186\n"
     ]
    }
   ],
   "source": [
    "year = 2006\n",
    "for x in range(2006,2021):\n",
    "    obs_count = df.loc[(df['Year'] == year)]\n",
    "    print(len(obs_count))\n",
    "    year += 1"
   ]
  }
 ],
 "metadata": {
  "interpreter": {
   "hash": "3fa47648691e18b34313f8a4e087bb5559b75a28785d53ef0f6248e31839f0fc"
  },
  "kernelspec": {
   "display_name": "Python 3.9.5 ('base')",
   "language": "python",
   "name": "python3"
  },
  "language_info": {
   "codemirror_mode": {
    "name": "ipython",
    "version": 3
   },
   "file_extension": ".py",
   "mimetype": "text/x-python",
   "name": "python",
   "nbconvert_exporter": "python",
   "pygments_lexer": "ipython3",
   "version": "3.9.5"
  },
  "orig_nbformat": 4
 },
 "nbformat": 4,
 "nbformat_minor": 2
}
