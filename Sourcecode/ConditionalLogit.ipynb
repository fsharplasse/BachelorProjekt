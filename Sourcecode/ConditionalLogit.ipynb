{
 "cells": [
  {
   "cell_type": "code",
   "execution_count": 2,
   "id": "85009c7c",
   "metadata": {},
   "outputs": [],
   "source": [
    "import pandas as pd\n",
    "import numpy as np\n",
    "import LinearModels as LM\n",
    "import matplotlib.pyplot as plt\n",
    "import NonLinearModels as nlm\n",
    "\n",
    "from scipy.stats import norm\n",
    "from scipy.stats import genextreme\n",
    "\n",
    "%load_ext autoreload\n",
    "%autoreload 2\n",
    "\n",
    "import clogit \n",
    "import estimation as est\n",
    "\n",
    "import logit\n",
    "import estimation2 as est2\n",
    "\n",
    "import logit3\n",
    "import estimation3 as est3"
   ]
  },
  {
   "cell_type": "code",
   "execution_count": 3,
   "id": "fdb4009e",
   "metadata": {},
   "outputs": [],
   "source": [
    "pd.options.display.float_format = '{:.10f}'.format\n",
    "# Vælg path\n",
    "path = \"/Users/Lasse/Documents/Bachelor/Seb/MotorRegisterData-main/Data/\""
   ]
  },
  {
   "cell_type": "code",
   "execution_count": 4,
   "id": "b4260ed5",
   "metadata": {},
   "outputs": [],
   "source": [
    "choice_data = pd.read_csv(path + 'clogit__data_subset.csv', delimiter=',', encoding = 'unicode_escape')"
   ]
  },
  {
   "cell_type": "code",
   "execution_count": 5,
   "id": "dfdaa684",
   "metadata": {},
   "outputs": [
    {
     "data": {
      "text/html": [
       "<div>\n",
       "<style scoped>\n",
       "    .dataframe tbody tr th:only-of-type {\n",
       "        vertical-align: middle;\n",
       "    }\n",
       "\n",
       "    .dataframe tbody tr th {\n",
       "        vertical-align: top;\n",
       "    }\n",
       "\n",
       "    .dataframe thead th {\n",
       "        text-align: right;\n",
       "    }\n",
       "</style>\n",
       "<table border=\"1\" class=\"dataframe\">\n",
       "  <thead>\n",
       "    <tr style=\"text-align: right;\">\n",
       "      <th></th>\n",
       "      <th>Unnamed: 0</th>\n",
       "      <th>ID</th>\n",
       "      <th>Fuel</th>\n",
       "      <th>Diesel</th>\n",
       "      <th>El</th>\n",
       "      <th>Key</th>\n",
       "      <th>Fuel-size segment</th>\n",
       "      <th>Registrations</th>\n",
       "      <th>Size segment</th>\n",
       "      <th>Year</th>\n",
       "      <th>...</th>\n",
       "      <th>Weight (kg)</th>\n",
       "      <th>Engine effect (kW)</th>\n",
       "      <th>Prices (2015-DKK)</th>\n",
       "      <th>Cost/km (DKK)</th>\n",
       "      <th>Size (m3)</th>\n",
       "      <th>Horsepower</th>\n",
       "      <th>Ownership cost (DKK)</th>\n",
       "      <th>CO2</th>\n",
       "      <th>Effi</th>\n",
       "      <th>Fuelchoice</th>\n",
       "    </tr>\n",
       "  </thead>\n",
       "  <tbody>\n",
       "    <tr>\n",
       "      <th>0</th>\n",
       "      <td>0</td>\n",
       "      <td>0</td>\n",
       "      <td>Benzin</td>\n",
       "      <td>0</td>\n",
       "      <td>0</td>\n",
       "      <td>toyota-avensis-2006-Benzin</td>\n",
       "      <td>BenzinSmall</td>\n",
       "      <td>5428</td>\n",
       "      <td>Small</td>\n",
       "      <td>2006</td>\n",
       "      <td>...</td>\n",
       "      <td>1820</td>\n",
       "      <td>108.0000000000</td>\n",
       "      <td>403349.2991000000</td>\n",
       "      <td>0.8136690650</td>\n",
       "      <td>12.5734400000</td>\n",
       "      <td>139.3076923000</td>\n",
       "      <td>346885.2055000000</td>\n",
       "      <td>172.0863309885</td>\n",
       "      <td>13.8999999957</td>\n",
       "      <td>2</td>\n",
       "    </tr>\n",
       "    <tr>\n",
       "      <th>1</th>\n",
       "      <td>1</td>\n",
       "      <td>1</td>\n",
       "      <td>Diesel</td>\n",
       "      <td>1</td>\n",
       "      <td>0</td>\n",
       "      <td>volkswagen-passat-2006-Diesel</td>\n",
       "      <td>DieselLarge</td>\n",
       "      <td>5378</td>\n",
       "      <td>Large</td>\n",
       "      <td>2006</td>\n",
       "      <td>...</td>\n",
       "      <td>2170</td>\n",
       "      <td>103.0000000000</td>\n",
       "      <td>378504.6729000000</td>\n",
       "      <td>0.6818791950</td>\n",
       "      <td>12.7349040000</td>\n",
       "      <td>128.3333333000</td>\n",
       "      <td>352803.0140000000</td>\n",
       "      <td>177.1812081496</td>\n",
       "      <td>14.8999999919</td>\n",
       "      <td>1</td>\n",
       "    </tr>\n",
       "    <tr>\n",
       "      <th>2</th>\n",
       "      <td>2</td>\n",
       "      <td>2</td>\n",
       "      <td>Benzin</td>\n",
       "      <td>0</td>\n",
       "      <td>0</td>\n",
       "      <td>renault-clio-2006-Benzin</td>\n",
       "      <td>BenzinSmall</td>\n",
       "      <td>4518</td>\n",
       "      <td>Small</td>\n",
       "      <td>2006</td>\n",
       "      <td>...</td>\n",
       "      <td>1425</td>\n",
       "      <td>43.0000000000</td>\n",
       "      <td>134344.6262000000</td>\n",
       "      <td>0.6772455090</td>\n",
       "      <td>8.8727280000</td>\n",
       "      <td>60.0000000000</td>\n",
       "      <td>118899.0321000000</td>\n",
       "      <td>143.2335329379</td>\n",
       "      <td>16.6999999996</td>\n",
       "      <td>2</td>\n",
       "    </tr>\n",
       "    <tr>\n",
       "      <th>3</th>\n",
       "      <td>3</td>\n",
       "      <td>3</td>\n",
       "      <td>Benzin</td>\n",
       "      <td>0</td>\n",
       "      <td>0</td>\n",
       "      <td>suzuki-swift-2006-Benzin</td>\n",
       "      <td>BenzinSmall</td>\n",
       "      <td>4406</td>\n",
       "      <td>Small</td>\n",
       "      <td>2006</td>\n",
       "      <td>...</td>\n",
       "      <td>1475</td>\n",
       "      <td>68.0000000000</td>\n",
       "      <td>163536.2150000000</td>\n",
       "      <td>0.7344155840</td>\n",
       "      <td>9.3795000000</td>\n",
       "      <td>94.0000000000</td>\n",
       "      <td>135059.8194000000</td>\n",
       "      <td>155.3246752368</td>\n",
       "      <td>15.4000000087</td>\n",
       "      <td>2</td>\n",
       "    </tr>\n",
       "    <tr>\n",
       "      <th>4</th>\n",
       "      <td>4</td>\n",
       "      <td>4</td>\n",
       "      <td>Benzin</td>\n",
       "      <td>0</td>\n",
       "      <td>0</td>\n",
       "      <td>fiat-punto-2006-Benzin</td>\n",
       "      <td>BenzinSmall</td>\n",
       "      <td>3743</td>\n",
       "      <td>Small</td>\n",
       "      <td>2006</td>\n",
       "      <td>...</td>\n",
       "      <td>1590</td>\n",
       "      <td>48.0000000000</td>\n",
       "      <td>150287.3832000000</td>\n",
       "      <td>0.6896341460</td>\n",
       "      <td>9.4832480000</td>\n",
       "      <td>63.8888888900</td>\n",
       "      <td>135188.4225000000</td>\n",
       "      <td>145.8536584644</td>\n",
       "      <td>16.4000000081</td>\n",
       "      <td>2</td>\n",
       "    </tr>\n",
       "    <tr>\n",
       "      <th>...</th>\n",
       "      <td>...</td>\n",
       "      <td>...</td>\n",
       "      <td>...</td>\n",
       "      <td>...</td>\n",
       "      <td>...</td>\n",
       "      <td>...</td>\n",
       "      <td>...</td>\n",
       "      <td>...</td>\n",
       "      <td>...</td>\n",
       "      <td>...</td>\n",
       "      <td>...</td>\n",
       "      <td>...</td>\n",
       "      <td>...</td>\n",
       "      <td>...</td>\n",
       "      <td>...</td>\n",
       "      <td>...</td>\n",
       "      <td>...</td>\n",
       "      <td>...</td>\n",
       "      <td>...</td>\n",
       "      <td>...</td>\n",
       "      <td>...</td>\n",
       "    </tr>\n",
       "    <tr>\n",
       "      <th>2785</th>\n",
       "      <td>3353</td>\n",
       "      <td>2785</td>\n",
       "      <td>Diesel</td>\n",
       "      <td>1</td>\n",
       "      <td>0</td>\n",
       "      <td>dacia-duster-2020-Diesel</td>\n",
       "      <td>DieselSmall</td>\n",
       "      <td>82</td>\n",
       "      <td>Small</td>\n",
       "      <td>2020</td>\n",
       "      <td>...</td>\n",
       "      <td>1848</td>\n",
       "      <td>85.0000000000</td>\n",
       "      <td>170224.3714000000</td>\n",
       "      <td>0.4011194030</td>\n",
       "      <td>13.2022800000</td>\n",
       "      <td>103.7500000000</td>\n",
       "      <td>171706.7217000000</td>\n",
       "      <td>98.5074626902</td>\n",
       "      <td>26.7999999990</td>\n",
       "      <td>1</td>\n",
       "    </tr>\n",
       "    <tr>\n",
       "      <th>2786</th>\n",
       "      <td>3378</td>\n",
       "      <td>2786</td>\n",
       "      <td>Benzin</td>\n",
       "      <td>0</td>\n",
       "      <td>0</td>\n",
       "      <td>volkswagen-golf-sportsvan-2020-Benzin</td>\n",
       "      <td>BenzinLarge</td>\n",
       "      <td>818</td>\n",
       "      <td>Large</td>\n",
       "      <td>2020</td>\n",
       "      <td>...</td>\n",
       "      <td>1930</td>\n",
       "      <td>110.0000000000</td>\n",
       "      <td>303593.8104000000</td>\n",
       "      <td>0.5836538460</td>\n",
       "      <td>12.4115320000</td>\n",
       "      <td>150.0000000000</td>\n",
       "      <td>272550.6403000000</td>\n",
       "      <td>114.9999999697</td>\n",
       "      <td>20.8000000055</td>\n",
       "      <td>2</td>\n",
       "    </tr>\n",
       "    <tr>\n",
       "      <th>2787</th>\n",
       "      <td>3379</td>\n",
       "      <td>2787</td>\n",
       "      <td>El</td>\n",
       "      <td>0</td>\n",
       "      <td>1</td>\n",
       "      <td>volkswagen-up-2020-El</td>\n",
       "      <td>ElSmall</td>\n",
       "      <td>370</td>\n",
       "      <td>Small</td>\n",
       "      <td>2020</td>\n",
       "      <td>...</td>\n",
       "      <td>1530</td>\n",
       "      <td>61.0000000000</td>\n",
       "      <td>153689.5551000000</td>\n",
       "      <td>0.3067652240</td>\n",
       "      <td>8.8557752890</td>\n",
       "      <td>61.2222222200</td>\n",
       "      <td>138192.7473000000</td>\n",
       "      <td>0.0000000000</td>\n",
       "      <td>697.2972969713</td>\n",
       "      <td>0</td>\n",
       "    </tr>\n",
       "    <tr>\n",
       "      <th>2788</th>\n",
       "      <td>3380</td>\n",
       "      <td>2788</td>\n",
       "      <td>Benzin</td>\n",
       "      <td>0</td>\n",
       "      <td>0</td>\n",
       "      <td>volkswagen-t-cross-2020-Benzin</td>\n",
       "      <td>BenzinSmall</td>\n",
       "      <td>2969</td>\n",
       "      <td>Small</td>\n",
       "      <td>2020</td>\n",
       "      <td>...</td>\n",
       "      <td>1760</td>\n",
       "      <td>85.0000000000</td>\n",
       "      <td>263941.9729000000</td>\n",
       "      <td>0.5419642860</td>\n",
       "      <td>11.4290880000</td>\n",
       "      <td>115.0000000000</td>\n",
       "      <td>237167.8115000000</td>\n",
       "      <td>106.7857143420</td>\n",
       "      <td>22.3999999882</td>\n",
       "      <td>2</td>\n",
       "    </tr>\n",
       "    <tr>\n",
       "      <th>2789</th>\n",
       "      <td>3381</td>\n",
       "      <td>2789</td>\n",
       "      <td>Benzin</td>\n",
       "      <td>0</td>\n",
       "      <td>0</td>\n",
       "      <td>volkswagen-t-roc-2020-Benzin</td>\n",
       "      <td>BenzinLarge</td>\n",
       "      <td>3299</td>\n",
       "      <td>Large</td>\n",
       "      <td>2020</td>\n",
       "      <td>...</td>\n",
       "      <td>1860</td>\n",
       "      <td>110.0000000000</td>\n",
       "      <td>254948.7427000000</td>\n",
       "      <td>0.5836538460</td>\n",
       "      <td>12.0868020000</td>\n",
       "      <td>150.0000000000</td>\n",
       "      <td>229437.2464000000</td>\n",
       "      <td>114.9999999697</td>\n",
       "      <td>20.8000000055</td>\n",
       "      <td>2</td>\n",
       "    </tr>\n",
       "  </tbody>\n",
       "</table>\n",
       "<p>2790 rows × 23 columns</p>\n",
       "</div>"
      ],
      "text/plain": [
       "      Unnamed: 0    ID    Fuel  Diesel  El  \\\n",
       "0              0     0  Benzin       0   0   \n",
       "1              1     1  Diesel       1   0   \n",
       "2              2     2  Benzin       0   0   \n",
       "3              3     3  Benzin       0   0   \n",
       "4              4     4  Benzin       0   0   \n",
       "...          ...   ...     ...     ...  ..   \n",
       "2785        3353  2785  Diesel       1   0   \n",
       "2786        3378  2786  Benzin       0   0   \n",
       "2787        3379  2787      El       0   1   \n",
       "2788        3380  2788  Benzin       0   0   \n",
       "2789        3381  2789  Benzin       0   0   \n",
       "\n",
       "                                        Key Fuel-size segment  Registrations  \\\n",
       "0                toyota-avensis-2006-Benzin       BenzinSmall           5428   \n",
       "1             volkswagen-passat-2006-Diesel       DieselLarge           5378   \n",
       "2                  renault-clio-2006-Benzin       BenzinSmall           4518   \n",
       "3                  suzuki-swift-2006-Benzin       BenzinSmall           4406   \n",
       "4                    fiat-punto-2006-Benzin       BenzinSmall           3743   \n",
       "...                                     ...               ...            ...   \n",
       "2785               dacia-duster-2020-Diesel       DieselSmall             82   \n",
       "2786  volkswagen-golf-sportsvan-2020-Benzin       BenzinLarge            818   \n",
       "2787                  volkswagen-up-2020-El           ElSmall            370   \n",
       "2788         volkswagen-t-cross-2020-Benzin       BenzinSmall           2969   \n",
       "2789           volkswagen-t-roc-2020-Benzin       BenzinLarge           3299   \n",
       "\n",
       "     Size segment  Year  ... Weight (kg)  Engine effect (kW)  \\\n",
       "0           Small  2006  ...        1820      108.0000000000   \n",
       "1           Large  2006  ...        2170      103.0000000000   \n",
       "2           Small  2006  ...        1425       43.0000000000   \n",
       "3           Small  2006  ...        1475       68.0000000000   \n",
       "4           Small  2006  ...        1590       48.0000000000   \n",
       "...           ...   ...  ...         ...                 ...   \n",
       "2785        Small  2020  ...        1848       85.0000000000   \n",
       "2786        Large  2020  ...        1930      110.0000000000   \n",
       "2787        Small  2020  ...        1530       61.0000000000   \n",
       "2788        Small  2020  ...        1760       85.0000000000   \n",
       "2789        Large  2020  ...        1860      110.0000000000   \n",
       "\n",
       "      Prices (2015-DKK)  Cost/km (DKK)     Size (m3)     Horsepower  \\\n",
       "0     403349.2991000000   0.8136690650 12.5734400000 139.3076923000   \n",
       "1     378504.6729000000   0.6818791950 12.7349040000 128.3333333000   \n",
       "2     134344.6262000000   0.6772455090  8.8727280000  60.0000000000   \n",
       "3     163536.2150000000   0.7344155840  9.3795000000  94.0000000000   \n",
       "4     150287.3832000000   0.6896341460  9.4832480000  63.8888888900   \n",
       "...                 ...            ...           ...            ...   \n",
       "2785  170224.3714000000   0.4011194030 13.2022800000 103.7500000000   \n",
       "2786  303593.8104000000   0.5836538460 12.4115320000 150.0000000000   \n",
       "2787  153689.5551000000   0.3067652240  8.8557752890  61.2222222200   \n",
       "2788  263941.9729000000   0.5419642860 11.4290880000 115.0000000000   \n",
       "2789  254948.7427000000   0.5836538460 12.0868020000 150.0000000000   \n",
       "\n",
       "      Ownership cost (DKK)            CO2           Effi  Fuelchoice  \n",
       "0        346885.2055000000 172.0863309885  13.8999999957           2  \n",
       "1        352803.0140000000 177.1812081496  14.8999999919           1  \n",
       "2        118899.0321000000 143.2335329379  16.6999999996           2  \n",
       "3        135059.8194000000 155.3246752368  15.4000000087           2  \n",
       "4        135188.4225000000 145.8536584644  16.4000000081           2  \n",
       "...                    ...            ...            ...         ...  \n",
       "2785     171706.7217000000  98.5074626902  26.7999999990           1  \n",
       "2786     272550.6403000000 114.9999999697  20.8000000055           2  \n",
       "2787     138192.7473000000   0.0000000000 697.2972969713           0  \n",
       "2788     237167.8115000000 106.7857143420  22.3999999882           2  \n",
       "2789     229437.2464000000 114.9999999697  20.8000000055           2  \n",
       "\n",
       "[2790 rows x 23 columns]"
      ]
     },
     "execution_count": 5,
     "metadata": {},
     "output_type": "execute_result"
    }
   ],
   "source": [
    "choice_data"
   ]
  },
  {
   "cell_type": "code",
   "execution_count": 6,
   "id": "2d0a5ae6",
   "metadata": {},
   "outputs": [],
   "source": [
    "#choice_data['Horsepower'].replace(0,choice_data['Horsepower'].mean(axis=0),inplace=True)\n",
    "#choice_data['Engine effect (kW)'].replace(0,choice_data['Engine effect (kW)'].mean(axis=0),inplace=True)"
   ]
  },
  {
   "cell_type": "code",
   "execution_count": 7,
   "id": "c75ba001",
   "metadata": {},
   "outputs": [
    {
     "data": {
      "text/plain": [
       "0      403349.2991000000\n",
       "1      378504.6729000000\n",
       "2      134344.6262000000\n",
       "3      163536.2150000000\n",
       "4      150287.3832000000\n",
       "              ...       \n",
       "2785   170224.3714000000\n",
       "2786   303593.8104000000\n",
       "2787   153689.5551000000\n",
       "2788   263941.9729000000\n",
       "2789   254948.7427000000\n",
       "Name: Prices (2015-DKK), Length: 2790, dtype: float64"
      ]
     },
     "execution_count": 7,
     "metadata": {},
     "output_type": "execute_result"
    }
   ],
   "source": [
    "choice_data['Prices (2015-DKK)']"
   ]
  },
  {
   "cell_type": "code",
   "execution_count": 8,
   "id": "1fd127c7",
   "metadata": {},
   "outputs": [],
   "source": [
    "# Logit is most stable numerically if we ensure that variables are scaled near to $\\pm 1$. \n",
    "choice_data['log_price'] = np.log(choice_data['Prices (2015-DKK)'] / 100000) \n",
    "choice_data['Size (m3)'] = choice_data['Size (m3)'] / 10\n",
    "choice_data['log_oc'] = np.log(choice_data['Ownership cost (DKK)'] / 100000)\n",
    "choice_data['Engine effect (kW)'] = choice_data['Engine effect (kW)'] / 100\n",
    "choice_data['Weight (kg)'] = choice_data['Weight (kg)'] / 1000\n",
    "choice_data['CO2'] = choice_data['CO2'] / 100"
   ]
  },
  {
   "cell_type": "code",
   "execution_count": 9,
   "id": "e7fcb0fa",
   "metadata": {},
   "outputs": [],
   "source": [
    "dummy_size = pd.get_dummies(choice_data['Fuel-size segment'], drop_first = True)\n",
    "choice_data = choice_data.join(dummy_size)"
   ]
  },
  {
   "cell_type": "code",
   "execution_count": 49,
   "id": "1580cea7",
   "metadata": {},
   "outputs": [
    {
     "data": {
      "text/plain": [
       "186"
      ]
     },
     "execution_count": 49,
     "metadata": {},
     "output_type": "execute_result"
    }
   ],
   "source": [
    "N = choice_data.Year.nunique()\n",
    "J = choice_data.Key.nunique()/N\n",
    "J = int(J)\n",
    "J"
   ]
  },
  {
   "cell_type": "code",
   "execution_count": 50,
   "id": "54ff1759",
   "metadata": {},
   "outputs": [
    {
     "data": {
      "text/plain": [
       "['log_price',\n",
       " 'Weight (kg)',\n",
       " 'Engine effect (kW)',\n",
       " 'Cost/km (DKK)',\n",
       " 'Size (m3)',\n",
       " 'log_oc',\n",
       " 'BenzinSmall',\n",
       " 'DieselLarge',\n",
       " 'DieselSmall',\n",
       " 'ElLarge',\n",
       " 'ElSmall',\n",
       " 'CO2']"
      ]
     },
     "execution_count": 50,
     "metadata": {},
     "output_type": "execute_result"
    }
   ],
   "source": [
    "x_vars = list(choice_data.iloc[:,[23,13,14,16,17,24,25,26,27,28,29,20]])\n",
    "x_lab = ['Prices','Weight','Engine Effect','Cost/KM','Size','Ownership Cost','GS','DL','DS','EVL','EVS','CO2']\n",
    "K = len(x_vars)\n",
    "x_vars"
   ]
  },
  {
   "cell_type": "code",
   "execution_count": 51,
   "id": "cae9b1ae",
   "metadata": {},
   "outputs": [
    {
     "data": {
      "text/plain": [
       "array([0., 0., 0., 0., 0., 0., 0., 0., 0., 0., 0., 0.])"
      ]
     },
     "execution_count": 51,
     "metadata": {},
     "output_type": "execute_result"
    }
   ],
   "source": [
    "y = choice_data['market_year'].values.reshape(N,J)\n",
    "x = choice_data[x_vars].values.reshape(N,J,K)\n",
    "theta0 = logit3.starting_values(y,x) \n",
    "theta0"
   ]
  },
  {
   "cell_type": "code",
   "execution_count": 52,
   "id": "d2295254",
   "metadata": {
    "scrolled": true
   },
   "outputs": [
    {
     "name": "stdout",
     "output_type": "stream",
     "text": [
      "Warning: Desired error not necessarily achieved due to precision loss.\n",
      "         Current function value: 5.104948\n",
      "         Iterations: 80\n",
      "         Function evaluations: 1131\n",
      "         Gradient evaluations: 87\n"
     ]
    },
    {
     "data": {
      "text/plain": [
       "{'theta_hat': array([-0.19935066,  0.29693804,  0.25817445, -1.80544643, -1.20472704,\n",
       "        -0.10645569,  0.07361754, -0.18223963, -0.67801649, -1.86312072,\n",
       "        -2.03618558, -0.18135257]),\n",
       " 'success': False,\n",
       " 'nit': 80,\n",
       " 'nfev': 1131,\n",
       " 'fun': 5.104947704667401,\n",
       " 'se': array([0.08203648, 0.21755355, 0.0912294 , 0.28582663, 0.25168918,\n",
       "        0.04845789, 0.06343169, 0.04724932, 0.06124399, 0.55783584,\n",
       "        0.32185282, 0.09338687]),\n",
       " 't': array([ -2.43002461,   1.36489629,   2.82994786,  -6.31657884,\n",
       "         -4.78656671,  -2.19686997,   1.16057973,  -3.85697898,\n",
       "        -11.07074376,  -3.33990861,  -6.32644937,  -1.94194933]),\n",
       " 'cov': array([[ 6.72998344e-03, -6.87246032e-03, -5.76586569e-04,\n",
       "          3.80203118e-03,  9.02104699e-05, -2.94035392e-03,\n",
       "          2.65135567e-03,  8.88043065e-04,  1.94651760e-03,\n",
       "         -1.11701312e-02,  3.49942449e-03, -2.72249229e-03],\n",
       "        [-6.87246032e-03,  4.73295486e-02, -1.20818687e-02,\n",
       "          9.21203906e-03, -3.89491723e-02,  5.62926367e-03,\n",
       "          1.50746044e-03, -6.76637323e-03, -1.92812678e-03,\n",
       "          3.95357325e-02, -3.68213816e-02, -8.97310899e-04],\n",
       "        [-5.76586569e-04, -1.20818687e-02,  8.32280389e-03,\n",
       "         -1.80233682e-02,  1.01986684e-02, -1.44198549e-03,\n",
       "         -2.21721966e-03,  6.54238909e-04, -2.37613609e-03,\n",
       "         -2.13655597e-02, -3.99430381e-03, -1.24252191e-04],\n",
       "        [ 3.80203118e-03,  9.21203906e-03, -1.80233682e-02,\n",
       "          8.16968609e-02,  6.02058127e-03, -2.13095173e-03,\n",
       "          1.55111805e-03,  2.73199998e-03,  5.13695022e-03,\n",
       "         -7.32763603e-03,  4.66766812e-02, -4.62407172e-03],\n",
       "        [ 9.02104699e-05, -3.89491723e-02,  1.01986684e-02,\n",
       "          6.02058127e-03,  6.33474425e-02, -3.68117572e-03,\n",
       "         -3.29632294e-03,  5.07735621e-03,  3.27247672e-03,\n",
       "         -7.51330587e-02,  3.86797536e-02, -4.68838060e-03],\n",
       "        [-2.94035392e-03,  5.62926367e-03, -1.44198549e-03,\n",
       "         -2.13095173e-03, -3.68117572e-03,  2.34816724e-03,\n",
       "          2.26143736e-04, -5.39290539e-04,  2.24656624e-04,\n",
       "          1.62872266e-02, -2.43425171e-03,  2.27224246e-03],\n",
       "        [ 2.65135567e-03,  1.50746044e-03, -2.21721966e-03,\n",
       "          1.55111805e-03, -3.29632294e-03,  2.26143736e-04,\n",
       "          4.02357975e-03,  3.89122859e-05,  2.21203470e-03,\n",
       "          6.72211544e-03, -2.60906030e-03, -1.20077038e-03],\n",
       "        [ 8.88043065e-04, -6.76637323e-03,  6.54238909e-04,\n",
       "          2.73199998e-03,  5.07735621e-03, -5.39290539e-04,\n",
       "          3.89122859e-05,  2.23249817e-03,  1.10984350e-03,\n",
       "         -3.94443848e-03,  7.35306515e-03, -2.01190376e-04],\n",
       "        [ 1.94651760e-03, -1.92812678e-03, -2.37613609e-03,\n",
       "          5.13695022e-03,  3.27247672e-03,  2.24656624e-04,\n",
       "          2.21203470e-03,  1.10984350e-03,  3.75082598e-03,\n",
       "         -1.80215777e-03,  6.14054126e-03, -3.38369699e-04],\n",
       "        [-1.11701312e-02,  3.95357325e-02, -2.13655597e-02,\n",
       "         -7.32763603e-03, -7.51330587e-02,  1.62872266e-02,\n",
       "          6.72211544e-03, -3.94443848e-03, -1.80215777e-03,\n",
       "          3.11180824e-01,  2.29938801e-02,  2.99035591e-02],\n",
       "        [ 3.49942449e-03, -3.68213816e-02, -3.99430381e-03,\n",
       "          4.66766812e-02,  3.86797536e-02, -2.43425171e-03,\n",
       "         -2.60906030e-03,  7.35306515e-03,  6.14054126e-03,\n",
       "          2.29938801e-02,  1.03589239e-01,  1.03068478e-02],\n",
       "        [-2.72249229e-03, -8.97310899e-04, -1.24252191e-04,\n",
       "         -4.62407172e-03, -4.68838060e-03,  2.27224246e-03,\n",
       "         -1.20077038e-03, -2.01190376e-04, -3.38369699e-04,\n",
       "          2.99035591e-02,  1.03068478e-02,  8.72110773e-03]])}"
      ]
     },
     "execution_count": 52,
     "metadata": {},
     "output_type": "execute_result"
    }
   ],
   "source": [
    "result = est3.estimate(logit3.q, theta0, y, x, cov_type = 'Sandwich', method = 'BFGS', options = {'disp':True, 'maxiter':100}, tol = 1e-8)\n",
    "result"
   ]
  },
  {
   "cell_type": "code",
   "execution_count": 53,
   "id": "7b81256e",
   "metadata": {
    "scrolled": true
   },
   "outputs": [
    {
     "name": "stdout",
     "output_type": "stream",
     "text": [
      "Optimizer failed after 80 iter. (1131 func. evals.). Final criterion:    5.105.\n",
      "Results\n"
     ]
    },
    {
     "data": {
      "text/html": [
       "<div>\n",
       "<style scoped>\n",
       "    .dataframe tbody tr th:only-of-type {\n",
       "        vertical-align: middle;\n",
       "    }\n",
       "\n",
       "    .dataframe tbody tr th {\n",
       "        vertical-align: top;\n",
       "    }\n",
       "\n",
       "    .dataframe thead th {\n",
       "        text-align: right;\n",
       "    }\n",
       "</style>\n",
       "<table border=\"1\" class=\"dataframe\">\n",
       "  <thead>\n",
       "    <tr style=\"text-align: right;\">\n",
       "      <th></th>\n",
       "      <th>theta</th>\n",
       "      <th>se</th>\n",
       "      <th>t</th>\n",
       "    </tr>\n",
       "  </thead>\n",
       "  <tbody>\n",
       "    <tr>\n",
       "      <th>Prices</th>\n",
       "      <td>-0.1994000000</td>\n",
       "      <td>0.0820000000</td>\n",
       "      <td>-2.4300000000</td>\n",
       "    </tr>\n",
       "    <tr>\n",
       "      <th>Weight</th>\n",
       "      <td>0.2969000000</td>\n",
       "      <td>0.2176000000</td>\n",
       "      <td>1.3649000000</td>\n",
       "    </tr>\n",
       "    <tr>\n",
       "      <th>Engine Effect</th>\n",
       "      <td>0.2582000000</td>\n",
       "      <td>0.0912000000</td>\n",
       "      <td>2.8299000000</td>\n",
       "    </tr>\n",
       "    <tr>\n",
       "      <th>Cost/KM</th>\n",
       "      <td>-1.8054000000</td>\n",
       "      <td>0.2858000000</td>\n",
       "      <td>-6.3166000000</td>\n",
       "    </tr>\n",
       "    <tr>\n",
       "      <th>Size</th>\n",
       "      <td>-1.2047000000</td>\n",
       "      <td>0.2517000000</td>\n",
       "      <td>-4.7866000000</td>\n",
       "    </tr>\n",
       "    <tr>\n",
       "      <th>Ownership Cost</th>\n",
       "      <td>-0.1065000000</td>\n",
       "      <td>0.0485000000</td>\n",
       "      <td>-2.1969000000</td>\n",
       "    </tr>\n",
       "    <tr>\n",
       "      <th>GS</th>\n",
       "      <td>0.0736000000</td>\n",
       "      <td>0.0634000000</td>\n",
       "      <td>1.1606000000</td>\n",
       "    </tr>\n",
       "    <tr>\n",
       "      <th>DL</th>\n",
       "      <td>-0.1822000000</td>\n",
       "      <td>0.0472000000</td>\n",
       "      <td>-3.8570000000</td>\n",
       "    </tr>\n",
       "    <tr>\n",
       "      <th>DS</th>\n",
       "      <td>-0.6780000000</td>\n",
       "      <td>0.0612000000</td>\n",
       "      <td>-11.0707000000</td>\n",
       "    </tr>\n",
       "    <tr>\n",
       "      <th>EVL</th>\n",
       "      <td>-1.8631000000</td>\n",
       "      <td>0.5578000000</td>\n",
       "      <td>-3.3399000000</td>\n",
       "    </tr>\n",
       "    <tr>\n",
       "      <th>EVS</th>\n",
       "      <td>-2.0362000000</td>\n",
       "      <td>0.3219000000</td>\n",
       "      <td>-6.3264000000</td>\n",
       "    </tr>\n",
       "    <tr>\n",
       "      <th>CO2</th>\n",
       "      <td>-0.1814000000</td>\n",
       "      <td>0.0934000000</td>\n",
       "      <td>-1.9419000000</td>\n",
       "    </tr>\n",
       "  </tbody>\n",
       "</table>\n",
       "</div>"
      ],
      "text/plain": [
       "                       theta           se              t\n",
       "Prices         -0.1994000000 0.0820000000  -2.4300000000\n",
       "Weight          0.2969000000 0.2176000000   1.3649000000\n",
       "Engine Effect   0.2582000000 0.0912000000   2.8299000000\n",
       "Cost/KM        -1.8054000000 0.2858000000  -6.3166000000\n",
       "Size           -1.2047000000 0.2517000000  -4.7866000000\n",
       "Ownership Cost -0.1065000000 0.0485000000  -2.1969000000\n",
       "GS              0.0736000000 0.0634000000   1.1606000000\n",
       "DL             -0.1822000000 0.0472000000  -3.8570000000\n",
       "DS             -0.6780000000 0.0612000000 -11.0707000000\n",
       "EVL            -1.8631000000 0.5578000000  -3.3399000000\n",
       "EVS            -2.0362000000 0.3219000000  -6.3264000000\n",
       "CO2            -0.1814000000 0.0934000000  -1.9419000000"
      ]
     },
     "execution_count": 53,
     "metadata": {},
     "output_type": "execute_result"
    }
   ],
   "source": [
    "est3.print_table(x_lab, result)"
   ]
  },
  {
   "cell_type": "code",
   "execution_count": 54,
   "id": "5854613e",
   "metadata": {},
   "outputs": [],
   "source": [
    "### Beginning of price elascticity\n",
    "thetahat = result['theta_hat']"
   ]
  },
  {
   "cell_type": "code",
   "execution_count": 55,
   "id": "2d2a21e0",
   "metadata": {
    "scrolled": true
   },
   "outputs": [
    {
     "data": {
      "text/plain": [
       "array([[0.00471998, 0.00498826, 0.01042612, ..., 0.00294279, 0.00437635,\n",
       "        0.00083484],\n",
       "       [0.00718173, 0.00508526, 0.00857603, ..., 0.00343217, 0.0014014 ,\n",
       "        0.00167125],\n",
       "       [0.00139294, 0.00362038, 0.00209013, ..., 0.00343391, 0.00762908,\n",
       "        0.00453656],\n",
       "       ...,\n",
       "       [0.00552727, 0.00440048, 0.00462597, ..., 0.00674049, 0.00248347,\n",
       "        0.0015882 ],\n",
       "       [0.00171736, 0.00159113, 0.00237988, ..., 0.00189008, 0.00145953,\n",
       "        0.00147267],\n",
       "       [0.00191622, 0.00157927, 0.0016581 , ..., 0.00194105, 0.00610844,\n",
       "        0.00531923]])"
      ]
     },
     "execution_count": 55,
     "metadata": {},
     "output_type": "execute_result"
    }
   ],
   "source": [
    "# Original choice probabilite\n",
    "ccp1 = logit3.choice_prob(thetahat, x)\n",
    "ccp1"
   ]
  },
  {
   "cell_type": "code",
   "execution_count": 100,
   "id": "8720afaa",
   "metadata": {
    "scrolled": true
   },
   "outputs": [
    {
     "name": "stdout",
     "output_type": "stream",
     "text": [
      "Own-price elasticity for log_price:  -0.19808349\n",
      "Cross-price elasticity for log_price: 0.00107072\n",
      "Own-price elasticity for log_oc:  -0.10582761\n",
      "Cross-price elasticity for log_oc: 0.00057204\n",
      "Own-price elasticity for Cost/km (DKK):  -1.77979726\n",
      "Cross-price elasticity for Cost/km (DKK): 0.00962076\n"
     ]
    }
   ],
   "source": [
    "#Find price elasticities of price, ownership costs and cost/km.\n",
    "E_own   = np.zeros((N, J))\n",
    "E_cross = np.zeros((N, J))\n",
    "k_price_list = [0,5,3]\n",
    "price_list = []\n",
    "\n",
    "for k_price in k_price_list:\n",
    "    for j in range(J):\n",
    "        # A. copy \n",
    "        x2 = x.copy()\n",
    "    \n",
    "        # B. increase price just for car j \n",
    "        rel_change_x = 0.01\n",
    "        x2[:, j, k_price] += (rel_change_x)\n",
    "    \n",
    "        # C. evaluate CCPs\n",
    "        ccp2 = logit3.choice_prob(thetahat, x2)\n",
    "    \n",
    "        # D. percentage change in CCPs \n",
    "        rel_change_y = ccp2 / ccp1 - 1.0 \n",
    "    \n",
    "        # E. elasticities \n",
    "        elasticity = rel_change_y / rel_change_x \n",
    "    \n",
    "        E_own[:, j] = elasticity[:, j]\n",
    "    \n",
    "        k_not_j = [k for k in range(J) if k != j]\n",
    "        E_cross[:, j] = elasticity[:, k_not_j].mean(axis=1)\n",
    "    print(f'Own-price elasticity for {x_vars[k_price]}:  {np.mean(E_own).round(8)}')\n",
    "    print(f'Cross-price elasticity for {x_vars[k_price]}: {np.mean(E_cross).round(8)}')\n",
    "    price_list.append(np.mean(E_own).round(8))"
   ]
  },
  {
   "cell_type": "code",
   "execution_count": 101,
   "id": "10585ca4",
   "metadata": {
    "scrolled": true
   },
   "outputs": [
    {
     "name": "stdout",
     "output_type": "stream",
     "text": [
      "Computing elasticity for variable 3: assuming that it is in log!\n",
      "Own-price elasticity: -1.77979726\n",
      "Cross-price elasticity: 0.00962076\n"
     ]
    }
   ],
   "source": [
    "## Bruger elasticity_numeric fra logit3.py til at beregne elasticiteter. Kan ændre k og h i logit3.py. \n",
    "elas = logit3.elasticity_numeric(thetahat, x)\n",
    "elas"
   ]
  },
  {
   "cell_type": "code",
   "execution_count": 102,
   "id": "4a48b6c8",
   "metadata": {},
   "outputs": [
    {
     "name": "stdout",
     "output_type": "stream",
     "text": [
      "Segment: BenzinSmall\n",
      "Elasticity of BenzinSmall:   -1.77485179\n",
      "Elasticity, Cross of BenzinSmall:   0.01465633\n",
      "Elasticity, other: -1.78182746\n",
      "Segment: DieselLarge\n",
      "Elasticity of DieselLarge:   -1.7819299\n",
      "Elasticity, Cross of DieselLarge:   0.00744927\n",
      "Elasticity, other: -1.77919926\n",
      "Segment: DieselSmall\n",
      "Elasticity of DieselSmall:   -1.78064403\n",
      "Elasticity, Cross of DieselSmall:   0.00875857\n",
      "Elasticity, other: -1.77954161\n",
      "Segment: ElLarge\n",
      "Elasticity of ElLarge:   -1.7863489\n",
      "Elasticity, Cross of ElLarge:   0.00294976\n",
      "Elasticity, other: -1.77974996\n",
      "Segment: ElSmall\n",
      "Elasticity of ElSmall:   -1.78615557\n",
      "Elasticity, Cross of ElSmall:   0.00314662\n",
      "Elasticity, other: -1.77964799\n"
     ]
    }
   ],
   "source": [
    "# Create two indexed, from where idx1 is for electric cars\n",
    "# and idx0 is for non-electric cars.\n",
    "for i_ev in range(6,11):\n",
    "    idx1 = x[:, :, i_ev]==1 \n",
    "    idx0 = x[:, :, i_ev]==0 \n",
    "    print(f'Segment: {x_vars[i_ev]}')\n",
    "    print(f'Elasticity of {x_vars[i_ev]}:   {np.mean(E_own[idx1]).round(8)}')\n",
    "    print(f'Elasticity, Cross of {x_vars[i_ev]}:   {np.mean(E_cross[idx1]).round(8)}')\n",
    "    print(f'Elasticity, other: {np.mean(E_own[idx0]).round(8)}')"
   ]
  },
  {
   "cell_type": "code",
   "execution_count": 88,
   "id": "cdfdeb09",
   "metadata": {
    "scrolled": true
   },
   "outputs": [
    {
     "data": {
      "text/plain": [
       "['log_price',\n",
       " 'Weight (kg)',\n",
       " 'Engine effect (kW)',\n",
       " 'Cost/km (DKK)',\n",
       " 'Size (m3)',\n",
       " 'log_oc',\n",
       " 'Diesel',\n",
       " 'El',\n",
       " 'CO2']"
      ]
     },
     "execution_count": 88,
     "metadata": {},
     "output_type": "execute_result"
    }
   ],
   "source": [
    "x_vars1 = list(choice_data.iloc[:,[23,13,14,16,17,24,3,4,20]])\n",
    "x_lab1 = ['Prices','Weight','Engine Effect','Cost/KM','Size','Ownership Cost','Diesel','EVS','CO2']\n",
    "K = len(x_vars1)\n",
    "x_vars1"
   ]
  },
  {
   "cell_type": "code",
   "execution_count": 23,
   "id": "b31c77b8",
   "metadata": {},
   "outputs": [
    {
     "data": {
      "text/plain": [
       "array([0., 0., 0., 0., 0., 0., 0., 0., 0.])"
      ]
     },
     "execution_count": 23,
     "metadata": {},
     "output_type": "execute_result"
    }
   ],
   "source": [
    "y1 = choice_data['market_year'].values.reshape(N,J)\n",
    "x1 = choice_data[x_vars1].values.reshape(N,J,K)\n",
    "theta0 = logit3.starting_values(y1,x1) \n",
    "theta0"
   ]
  },
  {
   "cell_type": "code",
   "execution_count": 24,
   "id": "6286c760",
   "metadata": {},
   "outputs": [
    {
     "name": "stdout",
     "output_type": "stream",
     "text": [
      "Warning: Desired error not necessarily achieved due to precision loss.\n",
      "         Current function value: 5.114250\n",
      "         Iterations: 63\n",
      "         Function evaluations: 710\n",
      "         Gradient evaluations: 71\n"
     ]
    },
    {
     "data": {
      "text/plain": [
       "{'theta_hat': array([-0.15755222,  0.58254775,  0.19887697, -2.05299858, -1.42466131,\n",
       "        -0.10516072, -0.62872208, -2.06197642, -0.05771003]),\n",
       " 'success': False,\n",
       " 'nit': 63,\n",
       " 'nfev': 710,\n",
       " 'fun': 5.11425047634533,\n",
       " 'se': array([0.08802467, 0.25596087, 0.08283199, 0.40871054, 0.27968496,\n",
       "        0.05212953, 0.07880112, 0.3105114 , 0.13671952]),\n",
       " 't': array([-1.78986429,  2.275925  ,  2.40096806, -5.02311137, -5.09380743,\n",
       "        -2.01729679, -7.97859284, -6.64058199, -0.42210529]),\n",
       " 'cov': array([[ 0.00774834, -0.01000141, -0.00083628,  0.01675979,  0.00145994,\n",
       "         -0.0040029 ,  0.00244445, -0.0056961 , -0.00899711],\n",
       "        [-0.01000141,  0.06551597, -0.00645593, -0.04384565, -0.05515797,\n",
       "          0.00417051, -0.01478885, -0.03435018,  0.01166248],\n",
       "        [-0.00083628, -0.00645593,  0.00686114, -0.01972405,  0.00499532,\n",
       "         -0.00033769, -0.001181  , -0.0051048 ,  0.00165231],\n",
       "        [ 0.01675979, -0.04384565, -0.01972405,  0.16704431,  0.04523467,\n",
       "         -0.0089634 ,  0.02250958,  0.06527653, -0.03175087],\n",
       "        [ 0.00145994, -0.05515797,  0.00499532,  0.04523467,  0.07822368,\n",
       "         -0.00121091,  0.0143136 ,  0.03284067, -0.01104949],\n",
       "        [-0.0040029 ,  0.00417051, -0.00033769, -0.0089634 , -0.00121091,\n",
       "          0.00271749, -0.00098482,  0.00495598,  0.00567084],\n",
       "        [ 0.00244445, -0.01478885, -0.001181  ,  0.02250958,  0.0143136 ,\n",
       "         -0.00098482,  0.00620962,  0.01416646, -0.00417962],\n",
       "        [-0.0056961 , -0.03435018, -0.0051048 ,  0.06527653,  0.03284067,\n",
       "          0.00495598,  0.01416646,  0.09641733,  0.00882483],\n",
       "        [-0.00899711,  0.01166248,  0.00165231, -0.03175087, -0.01104949,\n",
       "          0.00567084, -0.00417962,  0.00882483,  0.01869223]])}"
      ]
     },
     "execution_count": 24,
     "metadata": {},
     "output_type": "execute_result"
    }
   ],
   "source": [
    "result1 = est3.estimate(logit3.q, theta0, y1, x1, cov_type = 'Sandwich', method = 'BFGS', options = {'disp':True, 'maxiter':100}, tol = 1e-8)\n",
    "result1"
   ]
  },
  {
   "cell_type": "code",
   "execution_count": 25,
   "id": "fc4f7fa2",
   "metadata": {
    "scrolled": true
   },
   "outputs": [
    {
     "name": "stdout",
     "output_type": "stream",
     "text": [
      "Optimizer failed after 63 iter. (710 func. evals.). Final criterion:    5.114.\n",
      "Results\n"
     ]
    },
    {
     "data": {
      "text/html": [
       "<div>\n",
       "<style scoped>\n",
       "    .dataframe tbody tr th:only-of-type {\n",
       "        vertical-align: middle;\n",
       "    }\n",
       "\n",
       "    .dataframe tbody tr th {\n",
       "        vertical-align: top;\n",
       "    }\n",
       "\n",
       "    .dataframe thead th {\n",
       "        text-align: right;\n",
       "    }\n",
       "</style>\n",
       "<table border=\"1\" class=\"dataframe\">\n",
       "  <thead>\n",
       "    <tr style=\"text-align: right;\">\n",
       "      <th></th>\n",
       "      <th>theta</th>\n",
       "      <th>se</th>\n",
       "      <th>t</th>\n",
       "    </tr>\n",
       "  </thead>\n",
       "  <tbody>\n",
       "    <tr>\n",
       "      <th>Prices</th>\n",
       "      <td>-0.1576000000</td>\n",
       "      <td>0.0880000000</td>\n",
       "      <td>-1.7899000000</td>\n",
       "    </tr>\n",
       "    <tr>\n",
       "      <th>Weight</th>\n",
       "      <td>0.5825000000</td>\n",
       "      <td>0.2560000000</td>\n",
       "      <td>2.2759000000</td>\n",
       "    </tr>\n",
       "    <tr>\n",
       "      <th>Engine Effect</th>\n",
       "      <td>0.1989000000</td>\n",
       "      <td>0.0828000000</td>\n",
       "      <td>2.4010000000</td>\n",
       "    </tr>\n",
       "    <tr>\n",
       "      <th>Cost/KM</th>\n",
       "      <td>-2.0530000000</td>\n",
       "      <td>0.4087000000</td>\n",
       "      <td>-5.0231000000</td>\n",
       "    </tr>\n",
       "    <tr>\n",
       "      <th>Size</th>\n",
       "      <td>-1.4247000000</td>\n",
       "      <td>0.2797000000</td>\n",
       "      <td>-5.0938000000</td>\n",
       "    </tr>\n",
       "    <tr>\n",
       "      <th>Ownership Cost</th>\n",
       "      <td>-0.1052000000</td>\n",
       "      <td>0.0521000000</td>\n",
       "      <td>-2.0173000000</td>\n",
       "    </tr>\n",
       "    <tr>\n",
       "      <th>Diesel</th>\n",
       "      <td>-0.6287000000</td>\n",
       "      <td>0.0788000000</td>\n",
       "      <td>-7.9786000000</td>\n",
       "    </tr>\n",
       "    <tr>\n",
       "      <th>EVS</th>\n",
       "      <td>-2.0620000000</td>\n",
       "      <td>0.3105000000</td>\n",
       "      <td>-6.6406000000</td>\n",
       "    </tr>\n",
       "    <tr>\n",
       "      <th>CO2</th>\n",
       "      <td>-0.0577000000</td>\n",
       "      <td>0.1367000000</td>\n",
       "      <td>-0.4221000000</td>\n",
       "    </tr>\n",
       "  </tbody>\n",
       "</table>\n",
       "</div>"
      ],
      "text/plain": [
       "                       theta           se             t\n",
       "Prices         -0.1576000000 0.0880000000 -1.7899000000\n",
       "Weight          0.5825000000 0.2560000000  2.2759000000\n",
       "Engine Effect   0.1989000000 0.0828000000  2.4010000000\n",
       "Cost/KM        -2.0530000000 0.4087000000 -5.0231000000\n",
       "Size           -1.4247000000 0.2797000000 -5.0938000000\n",
       "Ownership Cost -0.1052000000 0.0521000000 -2.0173000000\n",
       "Diesel         -0.6287000000 0.0788000000 -7.9786000000\n",
       "EVS            -2.0620000000 0.3105000000 -6.6406000000\n",
       "CO2            -0.0577000000 0.1367000000 -0.4221000000"
      ]
     },
     "execution_count": 25,
     "metadata": {},
     "output_type": "execute_result"
    }
   ],
   "source": [
    "est3.print_table(x_lab1, result1)"
   ]
  },
  {
   "cell_type": "code",
   "execution_count": 26,
   "id": "c9e5176b",
   "metadata": {},
   "outputs": [
    {
     "data": {
      "text/plain": [
       "array([[0.00456462, 0.00380539, 0.00966704, ..., 0.00232329, 0.00516953,\n",
       "        0.00103302],\n",
       "       [0.00776081, 0.00383504, 0.00794921, ..., 0.00273465, 0.00129277,\n",
       "        0.00214029],\n",
       "       [0.00152063, 0.00279389, 0.00179569, ..., 0.00430552, 0.00786843,\n",
       "        0.00535389],\n",
       "       ...,\n",
       "       [0.00629144, 0.00542826, 0.0035046 , ..., 0.00749516, 0.00213203,\n",
       "        0.00144422],\n",
       "       [0.0018071 , 0.00165846, 0.00226646, ..., 0.00180827, 0.00134846,\n",
       "        0.00143521],\n",
       "       [0.00197856, 0.00163359, 0.00173802, ..., 0.001849  , 0.00608139,\n",
       "        0.00568666]])"
      ]
     },
     "execution_count": 26,
     "metadata": {},
     "output_type": "execute_result"
    }
   ],
   "source": [
    "### Beginning of price elascticity\n",
    "thetahat1 = result1['theta_hat']\n",
    "# Original choice probabilite\n",
    "ccp1 = logit3.choice_prob(thetahat1, x1)\n",
    "ccp1"
   ]
  },
  {
   "cell_type": "code",
   "execution_count": 27,
   "id": "2b50d159",
   "metadata": {},
   "outputs": [],
   "source": [
    "E_own1   = np.zeros((N, J))\n",
    "E_cross1 = np.zeros((N, J))\n",
    "k_price1 = 0 \n",
    "\n",
    "for j in range(J):\n",
    "    # A. copy \n",
    "    x22 = x1.copy()\n",
    "    \n",
    "    # B. increase price just for car j \n",
    "    rel_change_x1 = 1e-2\n",
    "    x22[:, j, k_price1] += (rel_change_x1)\n",
    "    \n",
    "    # C. evaluate CCPs\n",
    "    ccp22 = logit3.choice_prob(thetahat1, x22)\n",
    "    \n",
    "    # D. percentage change in CCPs \n",
    "    rel_change_y1 = ccp22 / ccp1 - 1.0 \n",
    "    \n",
    "    # E. elasticities \n",
    "    elasticity1 = rel_change_y1 / rel_change_x1 \n",
    "    \n",
    "    E_own1[:, j] = elasticity1[:, j]\n",
    "    \n",
    "    k_not_j1 = [k for k in range(J) if k != j]\n",
    "    E_cross1[:, j] = elasticity1[:, k_not_j1].mean(axis=1)"
   ]
  },
  {
   "cell_type": "code",
   "execution_count": 28,
   "id": "36441b03",
   "metadata": {},
   "outputs": [
    {
     "name": "stdout",
     "output_type": "stream",
     "text": [
      "Own-price elasticity:  -0.1566\n",
      "Cross-price elasticity: 0.0008\n"
     ]
    }
   ],
   "source": [
    "print(f'Own-price elasticity:  {np.mean(E_own1).round(4)}')\n",
    "print(f'Cross-price elasticity: {np.mean(E_cross1).round(4)}')"
   ]
  },
  {
   "cell_type": "code",
   "execution_count": 29,
   "id": "eed5f399",
   "metadata": {},
   "outputs": [
    {
     "data": {
      "text/plain": [
       "'El'"
      ]
     },
     "execution_count": 29,
     "metadata": {},
     "output_type": "execute_result"
    }
   ],
   "source": [
    "## Check EV price sensitivity\n",
    "i_ev1 = 7\n",
    "x_vars1[i_ev1] # check that we found the right one "
   ]
  },
  {
   "cell_type": "code",
   "execution_count": 30,
   "id": "0cc3dccf",
   "metadata": {},
   "outputs": [
    {
     "name": "stdout",
     "output_type": "stream",
     "text": [
      "Elasticity, EVs:   -0.1572\n",
      "Elasticity, Cross for EVs:   0.0003\n",
      "Elasticity, other: -0.1566\n",
      "Elasticity, Cross for other:   0.0009\n"
     ]
    }
   ],
   "source": [
    "# Create two indexed, from where idx1 is for electric cars\n",
    "# and idx0 is for non-electric cars.\n",
    "idx11 = x1[:, :, i_ev1]==1\n",
    "idx00 = x1[:, :, i_ev1]==0 \n",
    "print(f'Elasticity, EVs:   {np.mean(E_own1[idx11]).round(4)}')\n",
    "print(f'Elasticity, Cross for EVs:   {np.mean(E_cross1[idx11]).round(4)}')\n",
    "print(f'Elasticity, other: {np.mean(E_own1[idx00]).round(4)}')\n",
    "print(f'Elasticity, Cross for other:   {np.mean(E_cross1[idx00]).round(4)}')"
   ]
  },
  {
   "cell_type": "code",
   "execution_count": 32,
   "id": "d58968af",
   "metadata": {},
   "outputs": [],
   "source": [
    "#thetahat, se = est3.estimate(logit3.q, theta0, y, x, cov_type = 'Sandwich', method = 'BFGS', options = {'disp':True, 'maxiter':10_000}, tol = 1e-8)"
   ]
  },
  {
   "cell_type": "code",
   "execution_count": 33,
   "id": "00a66d09",
   "metadata": {},
   "outputs": [
    {
     "name": "stdout",
     "output_type": "stream",
     "text": [
      "\n",
      "y:\n",
      "            Shares\n",
      "0    0.0018026707\n",
      "1    0.0017860654\n",
      "2    0.0015004543\n",
      "3    0.0014632585\n",
      "4    0.0012430723\n",
      "...           ...\n",
      "2785 0.0000272327\n",
      "2786 0.0002716626\n",
      "2787 0.0001228792\n",
      "2788 0.0009860223\n",
      "2789 0.0010956173\n",
      "\n",
      "[2790 rows x 1 columns]\n"
     ]
    }
   ],
   "source": [
    "# MAKING LINEAR REGRESSION\n",
    "choice_data = choice_data.values\n",
    "y = choice_data[:, 12].astype(float)\n",
    "y = pd.DataFrame({'Shares' : y})\n",
    "print(\"\\ny:\\n\", y)"
   ]
  },
  {
   "cell_type": "code",
   "execution_count": 34,
   "id": "cb4126b8",
   "metadata": {},
   "outputs": [
    {
     "name": "stdout",
     "output_type": "stream",
     "text": [
      "\n",
      "X:\n",
      "          Constant       Weight  Engine effect      Cost/KM        Price  \\\n",
      "0    1.0000000000 1.8200000000   1.0800000000 0.8136690650 1.3946327477   \n",
      "1    1.0000000000 2.1700000000   1.0300000000 0.6818791950 1.3310582327   \n",
      "2    1.0000000000 1.4250000000   0.4300000000 0.6772455090 0.2952381498   \n",
      "3    1.0000000000 1.4750000000   0.6800000000 0.7344155840 0.4918642783   \n",
      "4    1.0000000000 1.5900000000   0.4800000000 0.6896341460 0.4073791631   \n",
      "...           ...          ...            ...          ...          ...   \n",
      "2785 1.0000000000 1.8480000000   0.8500000000 0.4011194030 0.5319472126   \n",
      "2786 1.0000000000 1.9300000000   1.1000000000 0.5836538460 1.1105204720   \n",
      "2787 1.0000000000 1.5300000000   0.6100000000 0.3067652240 0.4297645058   \n",
      "2788 1.0000000000 1.7600000000   0.8500000000 0.5419642860 0.9705590934   \n",
      "2789 1.0000000000 1.8600000000   1.1000000000 0.5836538460 0.9358923299   \n",
      "\n",
      "      Fuel_Diesel  Fuel_El  \n",
      "0               0        0  \n",
      "1               1        0  \n",
      "2               0        0  \n",
      "3               0        0  \n",
      "4               0        0  \n",
      "...           ...      ...  \n",
      "2785            1        0  \n",
      "2786            0        0  \n",
      "2787            0        1  \n",
      "2788            0        0  \n",
      "2789            0        0  \n",
      "\n",
      "[2790 rows x 7 columns]\n"
     ]
    }
   ],
   "source": [
    "x1 = choice_data[:, 2].astype(str)\n",
    "x2 = np.ones(x1.shape).astype(float)\n",
    "x3 = choice_data[:, 13].astype(float)\n",
    "x4 = choice_data[:, 14].astype(float)\n",
    "x5 = choice_data[:, 16].astype(float)\n",
    "x6 = choice_data[:, 23].astype(float)\n",
    "x = pd.DataFrame({'Constant' : x2, 'Fuel' : x1, 'Weight' : x3, 'Engine effect' : x4, 'Cost/KM' : x5, 'Price' : x6})\n",
    "x = pd.get_dummies(data = x, drop_first = True)\n",
    "print(\"\\nX:\\n\", x)"
   ]
  },
  {
   "cell_type": "code",
   "execution_count": 35,
   "id": "3283e6df",
   "metadata": {},
   "outputs": [
    {
     "name": "stdout",
     "output_type": "stream",
     "text": [
      "\n",
      "y_label: Shares\n",
      "x_labels: ['Constant', 'Weight', 'Engine effect', 'Cost/KM', 'Price', 'Fuel_Diesel', 'Fuel_El']\n"
     ]
    }
   ],
   "source": [
    "y_label = list(y.columns)[0]\n",
    "print(\"\\ny_label:\", y_label)\n",
    "x_labels = list(x.columns)\n",
    "print(\"x_labels:\", x_labels)"
   ]
  },
  {
   "cell_type": "code",
   "execution_count": 36,
   "id": "0acabf8b",
   "metadata": {
    "scrolled": true
   },
   "outputs": [
    {
     "name": "stdout",
     "output_type": "stream",
     "text": [
      "\n",
      "\n",
      "Linear regression\n",
      "Dependent variable: Shares\n",
      "\n",
      "                             Beta                 Se             t-values\n",
      "-------------  ------------------  -----------------  -------------------\n",
      "Constant        0.000988163771318  0.000052817598896   18.708987003686154\n",
      "Weight         -0.000091288516377  0.000029787681391   -3.064639881786253\n",
      "Engine effect   0.000099816724039  0.000018343712730    5.441467902770952\n",
      "Cost/KM        -0.000586141223958  0.000053966112850  -10.861282997902231\n",
      "Price          -0.000081837121778  0.000022266991690   -3.675266193053769\n",
      "Fuel_Diesel    -0.000193079702364  0.000022984348869   -8.400486064009732\n",
      "Fuel_El        -0.000524296837100  0.000039016048302  -13.437978983479853\n",
      "R² = 0.140\n",
      "σ² = 0.000\n"
     ]
    }
   ],
   "source": [
    "y = np.array(y)\n",
    "#print(\"y:\\n\", y)\n",
    "x = np.array(x)\n",
    "#print(\"X:\\n\", x)\n",
    "pols = LM.estimate(y, x, robust_se = True)\n",
    "print(\"\\n\")\n",
    "LM.print_table((y_label, x_labels), pols, title = \"Linear regression\", floatfmt = '.15f')"
   ]
  },
  {
   "cell_type": "code",
   "execution_count": null,
   "id": "14831d38",
   "metadata": {},
   "outputs": [],
   "source": []
  }
 ],
 "metadata": {
  "kernelspec": {
   "display_name": "Python 3",
   "language": "python",
   "name": "python3"
  },
  "language_info": {
   "codemirror_mode": {
    "name": "ipython",
    "version": 3
   },
   "file_extension": ".py",
   "mimetype": "text/x-python",
   "name": "python",
   "nbconvert_exporter": "python",
   "pygments_lexer": "ipython3",
   "version": "3.8.3"
  }
 },
 "nbformat": 4,
 "nbformat_minor": 5
}
