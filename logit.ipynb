{
 "cells": [
  {
   "cell_type": "code",
   "execution_count": null,
   "metadata": {},
   "outputs": [
    {
     "name": "stdout",
     "output_type": "stream",
     "text": [
      "The autoreload extension is already loaded. To reload it, use:\n",
      "  %reload_ext autoreload\n"
     ]
    }
   ],
   "source": [
    "import numpy as np\n",
    "from numpy import linalg as la\n",
    "from scipy.stats import norm\n",
    "from scipy import optimize\n",
    "from tabulate import tabulate\n",
    "import NonLinearModels as nlm\n",
    "import LinearModels as lm\n",
    "from numpy import genfromtxt"
   ]
  },
  {
   "cell_type": "code",
   "execution_count": null,
   "metadata": {},
   "outputs": [
    {
     "name": "stdout",
     "output_type": "stream",
     "text": [
      "[[0.]\n",
      " [0.]\n",
      " [0.]\n",
      " ...\n",
      " [0.]\n",
      " [0.]\n",
      " [0.]]\n"
     ]
    }
   ],
   "source": [
    "#Load data\n",
    "data = genfromtxt('final_data.csv', delimiter=',',skip_header=1)\n",
    "n = data.shape[0]\n",
    "age = data[:, 1].reshape(-1, 1)\n",
    "agedes = (2021-age).reshape(-1, 1)\n",
    "shares = data[:, 2].reshape(-1, 1)\n",
    "engineeffect = data[:, 5].reshape(-1, 1)\n",
    "weight = data[:, 4].reshape(-1, 1)\n",
    "price = data[:, 6].reshape(-1, 1)\n",
    "el = data[:, 11].reshape(-1, 1)\n",
    "kml = data[:, 8].reshape(-1, 1)\n",
    "diesel = data[:, 10].reshape(-1, 1)\n",
    "benzin = data[:, 9].reshape(-1, 1)\n",
    "print(benzin)"
   ]
  },
  {
   "cell_type": "code",
   "execution_count": null,
   "metadata": {},
   "outputs": [],
   "source": [
    "# Declare variables\n",
    "y = el\n",
    "ones = np.ones((n ,1))\n",
    "x = np.hstack((ones, shares, agedes, weight, price, engineeffect, kml))\n",
    "k = x.shape[1]"
   ]
  },
  {
   "cell_type": "code",
   "execution_count": null,
   "metadata": {},
   "outputs": [],
   "source": [
    "#Declare labels\n",
    "y_lab = 'el'\n",
    "x_lab = [\n",
    "    'const','shares','age of car', 'weight', 'price', 'engineeffect', 'kml']"
   ]
  },
  {
   "cell_type": "code",
   "execution_count": null,
   "metadata": {},
   "outputs": [
    {
     "name": "stdout",
     "output_type": "stream",
     "text": [
      "LPM results\n",
      "Dependent variable: el\n",
      "\n",
      "                             Beta                 Se            t-values\n",
      "------------  -------------------  -----------------  ------------------\n",
      "const          -0.042126501218971  0.008794526510919  -4.790081781738697\n",
      "shares        -12.519503647677512  2.428306284322806  -5.155652616189185\n",
      "age of car      0.000765557554082  0.000199531963516   3.836766503941943\n",
      "weight         -0.000002589336637  0.000005271747552  -0.491172350595905\n",
      "price           0.000000014416465  0.000000007875604   1.830521811260573\n",
      "engineeffect   -0.000068613974292  0.000089537574512  -0.766314864638471\n",
      "kml             0.002596407138701  0.000147377438028  17.617399063478665\n",
      "R² = 0.857\n",
      "σ² = 0.002\n"
     ]
    }
   ],
   "source": [
    "ols_results = lm.estimate(y, x)\n",
    "lm.print_table(\n",
    "    (y_lab, x_lab), ols_results, \n",
    "    title='LPM results', floatfmt='.15f'\n",
    ")"
   ]
  },
  {
   "cell_type": "code",
   "execution_count": null,
   "metadata": {},
   "outputs": [
    {
     "name": "stdout",
     "output_type": "stream",
     "text": [
      "Optimization terminated successfully.\n",
      "         Current function value: 0.312201\n",
      "         Iterations: 1\n",
      "         Function evaluations: 48\n",
      "         Gradient evaluations: 6\n"
     ]
    },
    {
     "name": "stderr",
     "output_type": "stream",
     "text": [
      "/Users/nicholaihjelme/Documents/GitHub/Bachelorprojekt/NonLinearModels.py:71: RuntimeWarning: overflow encountered in exp\n",
      "  G = 1/(1 + np.exp(-z))\n"
     ]
    },
    {
     "ename": "LinAlgError",
     "evalue": "Singular matrix",
     "output_type": "error",
     "traceback": [
      "\u001b[0;31m---------------------------------------------------------------------------\u001b[0m",
      "\u001b[0;31mLinAlgError\u001b[0m                               Traceback (most recent call last)",
      "\u001b[1;32m/Users/nicholaihjelme/Documents/GitHub/Bachelorprojekt/logit.ipynb Cell 6'\u001b[0m in \u001b[0;36m<cell line: 1>\u001b[0;34m()\u001b[0m\n\u001b[0;32m----> <a href='vscode-notebook-cell:/Users/nicholaihjelme/Documents/GitHub/Bachelorprojekt/logit.ipynb#ch0000005?line=0'>1</a>\u001b[0m logit_result \u001b[39m=\u001b[39m nlm\u001b[39m.\u001b[39;49mestimate(\n\u001b[1;32m      <a href='vscode-notebook-cell:/Users/nicholaihjelme/Documents/GitHub/Bachelorprojekt/logit.ipynb#ch0000005?line=1'>2</a>\u001b[0m     nlm\u001b[39m.\u001b[39;49mlogit_criterion, ols_results[\u001b[39m'\u001b[39;49m\u001b[39mb_hat\u001b[39;49m\u001b[39m'\u001b[39;49m]\u001b[39m.\u001b[39;49mflatten(), y\u001b[39m.\u001b[39;49mflatten(), x\n\u001b[1;32m      <a href='vscode-notebook-cell:/Users/nicholaihjelme/Documents/GitHub/Bachelorprojekt/logit.ipynb#ch0000005?line=2'>3</a>\u001b[0m )\n",
      "File \u001b[0;32m~/Documents/GitHub/Bachelorprojekt/NonLinearModels.py:48\u001b[0m, in \u001b[0;36mestimate\u001b[0;34m(func, theta0, y, x, cov_type, disp, **kwargs)\u001b[0m\n\u001b[1;32m     <a href='file:///Users/nicholaihjelme/Documents/GitHub/Bachelorprojekt/NonLinearModels.py?line=42'>43</a>\u001b[0m obj_func \u001b[39m=\u001b[39m \u001b[39mlambda\u001b[39;00m theta: \u001b[39m-\u001b[39m(\u001b[39m1\u001b[39m\u001b[39m/\u001b[39mn)\u001b[39m*\u001b[39mnp\u001b[39m.\u001b[39msum(func(theta, y, x))\n\u001b[1;32m     <a href='file:///Users/nicholaihjelme/Documents/GitHub/Bachelorprojekt/NonLinearModels.py?line=43'>44</a>\u001b[0m result \u001b[39m=\u001b[39m optimize\u001b[39m.\u001b[39mminimize(\n\u001b[1;32m     <a href='file:///Users/nicholaihjelme/Documents/GitHub/Bachelorprojekt/NonLinearModels.py?line=44'>45</a>\u001b[0m     obj_func, theta0, options\u001b[39m=\u001b[39m{\u001b[39m'\u001b[39m\u001b[39mdisp\u001b[39m\u001b[39m'\u001b[39m: disp},  \u001b[39m*\u001b[39m\u001b[39m*\u001b[39mkwargs\n\u001b[1;32m     <a href='file:///Users/nicholaihjelme/Documents/GitHub/Bachelorprojekt/NonLinearModels.py?line=45'>46</a>\u001b[0m     )\n\u001b[0;32m---> <a href='file:///Users/nicholaihjelme/Documents/GitHub/Bachelorprojekt/NonLinearModels.py?line=47'>48</a>\u001b[0m cov, se \u001b[39m=\u001b[39m variance(func, y, x, result, cov_type)   \n\u001b[1;32m     <a href='file:///Users/nicholaihjelme/Documents/GitHub/Bachelorprojekt/NonLinearModels.py?line=48'>49</a>\u001b[0m names \u001b[39m=\u001b[39m [\u001b[39m'\u001b[39m\u001b[39mb_hat\u001b[39m\u001b[39m'\u001b[39m, \u001b[39m'\u001b[39m\u001b[39mse\u001b[39m\u001b[39m'\u001b[39m, \u001b[39m'\u001b[39m\u001b[39mt_values\u001b[39m\u001b[39m'\u001b[39m, \u001b[39m'\u001b[39m\u001b[39mcov\u001b[39m\u001b[39m'\u001b[39m, \u001b[39m'\u001b[39m\u001b[39miter\u001b[39m\u001b[39m'\u001b[39m, \u001b[39m'\u001b[39m\u001b[39mfiter\u001b[39m\u001b[39m'\u001b[39m]\n\u001b[1;32m     <a href='file:///Users/nicholaihjelme/Documents/GitHub/Bachelorprojekt/NonLinearModels.py?line=49'>50</a>\u001b[0m results \u001b[39m=\u001b[39m [result\u001b[39m.\u001b[39mx, se, result\u001b[39m.\u001b[39mx\u001b[39m/\u001b[39mse, cov, result\u001b[39m.\u001b[39mnit, result\u001b[39m.\u001b[39mnfev]\n",
      "File \u001b[0;32m~/Documents/GitHub/Bachelorprojekt/NonLinearModels.py:112\u001b[0m, in \u001b[0;36mvariance\u001b[0;34m(func, y, x, result, cov_type)\u001b[0m\n\u001b[1;32m    <a href='file:///Users/nicholaihjelme/Documents/GitHub/Bachelorprojekt/NonLinearModels.py?line=109'>110</a>\u001b[0m     cov \u001b[39m=\u001b[39m \u001b[39m1\u001b[39m\u001b[39m/\u001b[39mn \u001b[39m*\u001b[39m hess_inv\n\u001b[1;32m    <a href='file:///Users/nicholaihjelme/Documents/GitHub/Bachelorprojekt/NonLinearModels.py?line=110'>111</a>\u001b[0m \u001b[39melif\u001b[39;00m cov_type \u001b[39m==\u001b[39m \u001b[39m'\u001b[39m\u001b[39mOuter Product\u001b[39m\u001b[39m'\u001b[39m:\n\u001b[0;32m--> <a href='file:///Users/nicholaihjelme/Documents/GitHub/Bachelorprojekt/NonLinearModels.py?line=111'>112</a>\u001b[0m     cov \u001b[39m=\u001b[39m \u001b[39m1\u001b[39m\u001b[39m/\u001b[39mn \u001b[39m*\u001b[39m la\u001b[39m.\u001b[39;49minv(b)\n\u001b[1;32m    <a href='file:///Users/nicholaihjelme/Documents/GitHub/Bachelorprojekt/NonLinearModels.py?line=112'>113</a>\u001b[0m \u001b[39melif\u001b[39;00m cov_type \u001b[39m==\u001b[39m \u001b[39m'\u001b[39m\u001b[39mSandwich\u001b[39m\u001b[39m'\u001b[39m:\n\u001b[1;32m    <a href='file:///Users/nicholaihjelme/Documents/GitHub/Bachelorprojekt/NonLinearModels.py?line=113'>114</a>\u001b[0m     hess_inv \u001b[39m=\u001b[39m result\u001b[39m.\u001b[39mhess_inv\n",
      "File \u001b[0;32m<__array_function__ internals>:180\u001b[0m, in \u001b[0;36minv\u001b[0;34m(*args, **kwargs)\u001b[0m\n",
      "File \u001b[0;32m~/miniconda3/lib/python3.9/site-packages/numpy/linalg/linalg.py:545\u001b[0m, in \u001b[0;36minv\u001b[0;34m(a)\u001b[0m\n\u001b[1;32m    <a href='file:///Users/nicholaihjelme/miniconda3/lib/python3.9/site-packages/numpy/linalg/linalg.py?line=542'>543</a>\u001b[0m signature \u001b[39m=\u001b[39m \u001b[39m'\u001b[39m\u001b[39mD->D\u001b[39m\u001b[39m'\u001b[39m \u001b[39mif\u001b[39;00m isComplexType(t) \u001b[39melse\u001b[39;00m \u001b[39m'\u001b[39m\u001b[39md->d\u001b[39m\u001b[39m'\u001b[39m\n\u001b[1;32m    <a href='file:///Users/nicholaihjelme/miniconda3/lib/python3.9/site-packages/numpy/linalg/linalg.py?line=543'>544</a>\u001b[0m extobj \u001b[39m=\u001b[39m get_linalg_error_extobj(_raise_linalgerror_singular)\n\u001b[0;32m--> <a href='file:///Users/nicholaihjelme/miniconda3/lib/python3.9/site-packages/numpy/linalg/linalg.py?line=544'>545</a>\u001b[0m ainv \u001b[39m=\u001b[39m _umath_linalg\u001b[39m.\u001b[39;49minv(a, signature\u001b[39m=\u001b[39;49msignature, extobj\u001b[39m=\u001b[39;49mextobj)\n\u001b[1;32m    <a href='file:///Users/nicholaihjelme/miniconda3/lib/python3.9/site-packages/numpy/linalg/linalg.py?line=545'>546</a>\u001b[0m \u001b[39mreturn\u001b[39;00m wrap(ainv\u001b[39m.\u001b[39mastype(result_t, copy\u001b[39m=\u001b[39m\u001b[39mFalse\u001b[39;00m))\n",
      "File \u001b[0;32m~/miniconda3/lib/python3.9/site-packages/numpy/linalg/linalg.py:88\u001b[0m, in \u001b[0;36m_raise_linalgerror_singular\u001b[0;34m(err, flag)\u001b[0m\n\u001b[1;32m     <a href='file:///Users/nicholaihjelme/miniconda3/lib/python3.9/site-packages/numpy/linalg/linalg.py?line=86'>87</a>\u001b[0m \u001b[39mdef\u001b[39;00m \u001b[39m_raise_linalgerror_singular\u001b[39m(err, flag):\n\u001b[0;32m---> <a href='file:///Users/nicholaihjelme/miniconda3/lib/python3.9/site-packages/numpy/linalg/linalg.py?line=87'>88</a>\u001b[0m     \u001b[39mraise\u001b[39;00m LinAlgError(\u001b[39m\"\u001b[39m\u001b[39mSingular matrix\u001b[39m\u001b[39m\"\u001b[39m)\n",
      "\u001b[0;31mLinAlgError\u001b[0m: Singular matrix"
     ]
    }
   ],
   "source": [
    "logit_result = nlm.estimate(\n",
    "    nlm.logit_criterion, ols_results['b_hat'].flatten(), y.flatten(), x\n",
    ")"
   ]
  },
  {
   "cell_type": "code",
   "execution_count": null,
   "metadata": {},
   "outputs": [
    {
     "name": "stdout",
     "output_type": "stream",
     "text": [
      "Logit results\n",
      "Dependent variable: el\n",
      "\n",
      "                        Beta              Se        t-values\n",
      "------------  --------------  --------------  --------------\n",
      "const          -7.5249506350    0.4628407500  -16.2581852070\n",
      "shares        -43.6313461498  131.3372205823   -0.3322085389\n",
      "age of car      0.0013548011    0.0123760912    0.1094692201\n",
      "weight          0.0054859694    0.0002912911   18.8332880586\n",
      "price           0.0000004797    0.0000002713    1.7681177959\n",
      "engineeffect   -0.0318995807    0.0022601648  -14.1138296937\n",
      "kml            -0.0073213935    0.0012925680   -5.6642230115\n",
      "In 23 iterations and 740 function evaluations.\n"
     ]
    }
   ],
   "source": [
    "nlm.print_table(\n",
    "    (y_lab, x_lab), logit_result, \n",
    "    title='Logit results', floatfmt='.10f'\n",
    ")"
   ]
  },
  {
   "cell_type": "code",
   "execution_count": null,
   "metadata": {},
   "outputs": [],
   "source": []
  }
 ],
 "metadata": {
  "interpreter": {
   "hash": "3fa47648691e18b34313f8a4e087bb5559b75a28785d53ef0f6248e31839f0fc"
  },
  "kernelspec": {
   "display_name": "Python 3.9.5 ('base')",
   "language": "python",
   "name": "python3"
  },
  "language_info": {
   "codemirror_mode": {
    "name": "ipython",
    "version": 3
   },
   "file_extension": ".py",
   "mimetype": "text/x-python",
   "name": "python",
   "nbconvert_exporter": "python",
   "pygments_lexer": "ipython3",
   "version": "3.9.5"
  },
  "orig_nbformat": 4
 },
 "nbformat": 4,
 "nbformat_minor": 2
}
