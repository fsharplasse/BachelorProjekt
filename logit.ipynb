{
 "cells": [
  {
   "cell_type": "code",
   "execution_count": 11,
   "metadata": {},
   "outputs": [
    {
     "name": "stdout",
     "output_type": "stream",
     "text": [
      "The autoreload extension is already loaded. To reload it, use:\n",
      "  %reload_ext autoreload\n"
     ]
    }
   ],
   "source": [
    "import numpy as np\n",
    "from numpy import linalg as la\n",
    "from scipy.stats import norm\n",
    "from scipy import optimize\n",
    "from tabulate import tabulate\n",
    "import NonLinearModels as nlm\n",
    "import LinearModels as lm\n",
    "from numpy import genfromtxt\n",
    "%load_ext autoreload\n",
    "%autoreload 2"
   ]
  },
  {
   "cell_type": "code",
   "execution_count": 12,
   "metadata": {},
   "outputs": [],
   "source": [
    "#Load data\n",
    "data = genfromtxt('final_data.csv', delimiter=',',skip_header=1)\n",
    "n = data.shape[0]\n",
    "age = data[:, 1].reshape(-1, 1)\n",
    "agedes = (2021-age).reshape(-1, 1)\n",
    "shares = data[:, 2].reshape(-1, 1)\n",
    "engineeffect = data[:, 5].reshape(-1, 1)\n",
    "weight = data[:, 4].reshape(-1, 1)\n",
    "price = data[:, 6].reshape(-1, 1)\n",
    "benzin = data[:, 9].reshape(-1, 1)\n",
    "kml = data[:, 8].reshape(-1, 1)"
   ]
  },
  {
   "cell_type": "code",
   "execution_count": 13,
   "metadata": {},
   "outputs": [],
   "source": [
    "# Declare variables\n",
    "y = benzin\n",
    "ones = np.ones((n ,1))\n",
    "x = np.hstack((ones, shares, agedes, weight, price, engineeffect, kml))\n",
    "k = x.shape[1]"
   ]
  },
  {
   "cell_type": "code",
   "execution_count": 14,
   "metadata": {},
   "outputs": [],
   "source": [
    "#Declare labels\n",
    "y_lab = 'benzin'\n",
    "x_lab = [\n",
    "    'const','shares','age of car', 'weight', 'price', 'engineeffect', 'kml']"
   ]
  },
  {
   "cell_type": "code",
   "execution_count": 15,
   "metadata": {},
   "outputs": [
    {
     "name": "stdout",
     "output_type": "stream",
     "text": [
      "LPM results\n",
      "Dependent variable: benzin\n",
      "\n",
      "                            Beta                  Se             t-values\n",
      "------------  ------------------  ------------------  -------------------\n",
      "const          1.784768322951686   0.058219623490981   30.655786072339748\n",
      "shares        56.140857447214017  20.789410928766195    2.700454459223384\n",
      "age of car    -0.002015171460783   0.002192201068196   -0.919245725229691\n",
      "weight        -0.000838188609299   0.000030807261257  -27.207501579328309\n",
      "price         -0.000000121262901   0.000000034930776   -3.471520419155430\n",
      "engineeffect   0.004373257993989   0.000313449104014   13.952051347377918\n",
      "kml           -0.002068880993442   0.000319370298982   -6.478000615693598\n",
      "R² = 0.268\n",
      "σ² = 0.181\n"
     ]
    }
   ],
   "source": [
    "ols_results = lm.estimate(y, x)\n",
    "lm.print_table(\n",
    "    (y_lab, x_lab), ols_results, \n",
    "    title='LPM results', floatfmt='.15f'\n",
    ")"
   ]
  },
  {
   "cell_type": "code",
   "execution_count": 16,
   "metadata": {},
   "outputs": [
    {
     "name": "stdout",
     "output_type": "stream",
     "text": [
      "Warning: Desired error not necessarily achieved due to precision loss.\n",
      "         Current function value: 0.117586\n",
      "         Iterations: 42\n",
      "         Function evaluations: 771\n",
      "         Gradient evaluations: 95\n"
     ]
    },
    {
     "name": "stderr",
     "output_type": "stream",
     "text": [
      "/Users/nicholaihjelme/Documents/GitHub/Bachelorprojekt/NonLinearModels.py:71: RuntimeWarning: overflow encountered in exp\n",
      "  G = 1/(1 + np.exp(-z))\n",
      "/Users/nicholaihjelme/Documents/GitHub/Bachelorprojekt/NonLinearModels.py:71: RuntimeWarning: overflow encountered in exp\n",
      "  G = 1/(1 + np.exp(-z))\n",
      "/Users/nicholaihjelme/Documents/GitHub/Bachelorprojekt/NonLinearModels.py:71: RuntimeWarning: overflow encountered in exp\n",
      "  G = 1/(1 + np.exp(-z))\n"
     ]
    }
   ],
   "source": [
    "logit_result = nlm.estimate(\n",
    "    nlm.logit_criterion, ols_results['b_hat'].flatten(), y.flatten(), x\n",
    ")"
   ]
  },
  {
   "cell_type": "code",
   "execution_count": 17,
   "metadata": {},
   "outputs": [
    {
     "name": "stdout",
     "output_type": "stream",
     "text": [
      "Logit results\n",
      "Dependent variable: benzin\n",
      "\n",
      "                Beta       Se    t-values\n",
      "------------  ------  -------  ----------\n",
      "const         70.447    3.223      21.860\n",
      "shares        56.246  367.352       0.153\n",
      "age of car    -0.893    0.051     -17.544\n",
      "weight        -0.018    0.001     -19.622\n",
      "price         -0.000    0.000      -1.048\n",
      "engineeffect   0.018    0.006       3.175\n",
      "kml           -1.571    0.077     -20.502\n",
      "In 42 iterations and 771 function evaluations.\n"
     ]
    }
   ],
   "source": [
    "nlm.print_table(\n",
    "    (y_lab, x_lab), logit_result, \n",
    "    title='Logit results', floatfmt='.3f'\n",
    ")"
   ]
  },
  {
   "cell_type": "code",
   "execution_count": null,
   "metadata": {},
   "outputs": [],
   "source": []
  }
 ],
 "metadata": {
  "interpreter": {
   "hash": "3fa47648691e18b34313f8a4e087bb5559b75a28785d53ef0f6248e31839f0fc"
  },
  "kernelspec": {
   "display_name": "Python 3.9.5 ('base')",
   "language": "python",
   "name": "python3"
  },
  "language_info": {
   "codemirror_mode": {
    "name": "ipython",
    "version": 3
   },
   "file_extension": ".py",
   "mimetype": "text/x-python",
   "name": "python",
   "nbconvert_exporter": "python",
   "pygments_lexer": "ipython3",
   "version": "3.9.5"
  },
  "orig_nbformat": 4
 },
 "nbformat": 4,
 "nbformat_minor": 2
}
