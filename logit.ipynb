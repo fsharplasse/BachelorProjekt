{
 "cells": [
  {
   "cell_type": "code",
   "execution_count": 66,
   "metadata": {},
   "outputs": [
    {
     "name": "stdout",
     "output_type": "stream",
     "text": [
      "The autoreload extension is already loaded. To reload it, use:\n",
      "  %reload_ext autoreload\n"
     ]
    }
   ],
   "source": [
    "import numpy as np\n",
    "from numpy import linalg as la\n",
    "from scipy.stats import norm\n",
    "from scipy import optimize\n",
    "from tabulate import tabulate\n",
    "import NonLinearModels as nlm\n",
    "import LinearModels as lm\n",
    "from numpy import genfromtxt\n",
    "%load_ext autoreload\n",
    "%autoreload 2"
   ]
  },
  {
   "cell_type": "code",
   "execution_count": 67,
   "metadata": {},
   "outputs": [],
   "source": [
    "#Load data\n",
    "data = genfromtxt('final_data.csv', delimiter=',',skip_header=1)\n",
    "n = data.shape[0]\n",
    "age = data[:, 1].reshape(-1, 1)\n",
    "agedes = (2021-age).reshape(-1, 1)\n",
    "shares = data[:, 2].reshape(-1, 1)\n",
    "engineeffect = data[:, 5].reshape(-1, 1)\n",
    "weight = data[:, 4].reshape(-1, 1)\n",
    "price = data[:, 6].reshape(-1, 1)\n",
    "kml = data[:, 8].reshape(-1, 1)"
   ]
  },
  {
   "cell_type": "code",
   "execution_count": 68,
   "metadata": {},
   "outputs": [],
   "source": [
    "# Declare variables\n",
    "y = shares\n",
    "ones = np.ones((n ,1))\n",
    "x = np.hstack((ones, agedes, weight, price, engineeffect, kml))\n",
    "k = x.shape[1]"
   ]
  },
  {
   "cell_type": "code",
   "execution_count": 69,
   "metadata": {},
   "outputs": [],
   "source": [
    "#Declare labels\n",
    "y_lab = 'shares'\n",
    "x_lab = [\n",
    "    'const','agedes', 'weight', 'price', 'engineeffect', 'kml']"
   ]
  },
  {
   "cell_type": "code",
   "execution_count": 70,
   "metadata": {},
   "outputs": [
    {
     "name": "stdout",
     "output_type": "stream",
     "text": [
      "LPM results\n",
      "Dependent variable: shares\n",
      "\n",
      "                            Beta                 Se             t-values\n",
      "------------  ------------------  -----------------  -------------------\n",
      "const          0.001173724893092  0.000066450703885   17.663091953319782\n",
      "agedes        -0.000006694193124  0.000002089960935   -3.203023086534533\n",
      "weight        -0.000000375191995  0.000000032788609  -11.442754335133458\n",
      "price         -0.000000000013155  0.000000000021049   -0.624991060270699\n",
      "engineeffect  -0.000000372982147  0.000000198276931   -1.881117207458015\n",
      "kml            0.000000099839719  0.000000180655193    0.552653468540233\n",
      "R² = 0.132\n",
      "σ² = 0.000\n"
     ]
    }
   ],
   "source": [
    "ols_results = lm.estimate(y, x)\n",
    "lm.print_table(\n",
    "    (y_lab, x_lab), ols_results, \n",
    "    title='LPM results', floatfmt='.15f'\n",
    ")"
   ]
  }
 ],
 "metadata": {
  "interpreter": {
   "hash": "3fa47648691e18b34313f8a4e087bb5559b75a28785d53ef0f6248e31839f0fc"
  },
  "kernelspec": {
   "display_name": "Python 3.9.5 ('base')",
   "language": "python",
   "name": "python3"
  },
  "language_info": {
   "codemirror_mode": {
    "name": "ipython",
    "version": 3
   },
   "file_extension": ".py",
   "mimetype": "text/x-python",
   "name": "python",
   "nbconvert_exporter": "python",
   "pygments_lexer": "ipython3",
   "version": "3.9.5"
  },
  "orig_nbformat": 4
 },
 "nbformat": 4,
 "nbformat_minor": 2
}
